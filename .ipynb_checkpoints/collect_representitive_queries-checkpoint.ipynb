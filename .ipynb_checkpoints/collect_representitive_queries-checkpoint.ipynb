{
 "cells": [
  {
   "cell_type": "markdown",
   "id": "7cc75b13-2c2d-45dc-b953-467f241371b2",
   "metadata": {},
   "source": [
    "## 1. We download the query logs that Vincent is provided at dumontior Lab website. \n",
    "link to download the logs: https://download.dumontierlab.com/bio2rdf/logs/\n",
    "The logs are stored in a file with name \"bio2rdf_sparql_logs_processed_01-2019_to_07-2021.csv\"\n",
    "\n",
    "## Number of queries are 3880939"
   ]
  },
  {
   "cell_type": "code",
   "execution_count": 1,
   "id": "4fafc2ae",
   "metadata": {
    "tags": []
   },
   "outputs": [
    {
     "name": "stdout",
     "output_type": "stream",
     "text": [
      "Null value counts:\n",
      "query        0\n",
      "domain       0\n",
      "agent        0\n",
      "timestamp    0\n",
      "dtype: int64\n",
      "3880939\n",
      "                                                                                                                                                                                                                                                                                                                                                                                                                                                                                                                                                                                                                                                                                                                                                                                                                                                                                                                                                                                                                                                                                                                                                                                                                                                                                                                                                                                                                                                                                                                                                                                                                                                                                                                                                                                                                                                                                                                                                                                                                                                                                                                                                                                                                                                                                                                                                                                                                                                                                                                                                                                                                                                                                                                                                                                                                                                                                                                                                                                                                                                                                                                                                                                                                                                                                                                                                                                                                                                                                                                                                                                                                                                                                                                                                                                                                                                                                                                                                                                                                                                                                                                                                                                                                                                                                                                                                                                                                                                                                                                                                                                                                                                                                                                                                                                                                                                                                                                                                                                                                                                                                                                              query  \\\n",
      "0                                                                                                                                                                                                                                                                                                                                                                                                                                                                                                                                                                                                                                                                                                                                                                                                                                                                                                                                                                                                                                                                                                                                                                                                                                                                                                                                                                                                                                                                                                                                                                                                                                                                                                                                                                                                                                                                                                                                                                                                                                                                                                                                                                                                                                                                                                                                                                                                                                                                                                                                                                                                                                                                                                                                                                                                                                                                                                                                                                                                                                                                                                                                                                                                                                                                                                                                                                                                                                                                                                                                                                                                                                                                                                                                                                                                                                                                                                                                                                                                                                                                                                                                                                                                                                                                                                                                                                                                                                                                                                                                                                                                                                                                                                                                                                                                                                                                                                                                                                                                                                     CONSTRUCT { ?s ?p ?o . } WHERE { SERVICE <http://bio2rdf.org/sparql> { ?s ?p ?o . } } LIMIT 1   \n",
      "1                                                                                                                                                                                                                                                                                                                                                                                                                                                                                                                                                                                                                                                                                                                                                                                                                                                                                                                                                                                                                                                                                                                                                                                                                                                                                                                                                                                                                                                                                                                                                                                                                                                                                                                                                                                                                                                                                                                                                                                                                                                                                                                                                                                                                                                                                                                                                                                                                                                                                                                                                                                                                                                                                                                                                                                                                                                                                                                                                                                                                                                                                                                                                                                                                                                                                                                                                                                                                                                                                                                                                                                                                                                                                                                                                                                                                                                                                                                                                                                                                                                                                                                                                                                                                                                                                                                                                                                                                                                                                                                                                                                                                                                                                                                                                                                                                                                                                                                                   SELECT DISTINCT ?prefix WHERE { { SELECT DISTINCT ?p WHERE { ?s ?p ?o . } } . BIND(IF(CONTAINS(STR(?p), \"#\"), REPLACE(STR(?p), \"#[^#]*$\", \"#\"), REPLACE(STR(?p), \"/[^/]*$\", \"/\")) AS ?prefix) }   \n",
      "2                                                                                                                                                                                                                                                                                                                                                                                                                                                                                                                                                                                                                                                                                                                                                                                                                                                                                                                                                                                                                                                                                                                                                                                                                                                                                                                                                                                                                                                                                                                                                                                                                                                                                                                                                                                                                                                                                                                                                                                                                                                                                                                                                                                                                                                                                                                                                                                                                                                                                                                                                                                                                                                                                                                                                                                                                                                                                                                                                                                                                                                                                                                                                                                                                                                                                                                                                                                                                                                                                                                                                                                                                                                                                                                                                                                                                                                                                                                                                                                                                                                                                                                                                                                                                                                                                                                                                                                                                                                                                                                                                                                                                                                                                                                                                                                                                                                                                                                                                                                                                                      select * where {[] a ?Concept} LIMIT 100&format=text/html&timeout=0&debug=on&run= Run Query    \n",
      "3  With the advantages of utilizing a job recruiter weighed towards the disadvantages you'll discover that most often using a job headhunter is not \\r\\nthe very best option for you or your organization. Whhen Mr.\\r\\nDelbart’s job att Orajge CH turned redundant, he was employed \\r\\nas Head of Support for Transport Publics Genevois, a personal \\r\\ncompany offering transport facilities to the public.\\r\\nLet me let you know slightly about Mr. Delbart’s career before analyzing \\r\\nthe common principles that it is best to observe.\\r\\nSince 2009, Betts Recruiting has been serving to veterans \\r\\nmake career dreams come true and serving to corporations scale \\r\\nfor growth. At the time, he was inquisitive about having a technical profession related to Information Technology (IT) improvement and maintenance.\\r\\n\\r\\nHaving learned about the value of an MBA program from a colleague, he next started \\r\\nfinding out at Rushmore University, where he centered on the idea and follow of promoting, sustainable growth, the Internet, \\r\\nandd IT. An unexpected benefit of his MBA program was learning the right way to be simpler in researching and understanding \\r\\nnew topics on his personal, making iit easier for \\r\\nhim to prokceed his schooling after graduating.Seeking much more variety and scope for his profession, he joined with a associate to launch a \\r\\nweb design agency.\\r\\n\\r\\nRight now, it haas yet to point out up in current government efficiency knowledge,\\r\\nannd truly, tthe latest jobs report showed even a slight drop within the number of financial professionals.\\r\\nEven if the person you’re talking to doesn’t endure from that \\r\\nspecific problem, by specializing in problems moderately than some bland recitation about what you \"do\", you dramatically increase \\r\\nthe chance that they will remember you. You will want to think aout your consolation level with different coaching strategies, comparable to speaking in entrance of \\r\\nmassive groups, one-on-one coaching, talking over the telephone, corresponding \\r\\nby electronic mail or another platform, and find the supply platform that works finest for you.\\r\\nThe point is that if you want to get someone’s attention yyou should concentrate on the \\r\\nproblems that you simply clear up. In some unspecified time in the future \\r\\nthe one distinction between you and the latest employee \\r\\nis thaqt you've got more experience. If a headhunter contacts you about a specific job, the primary question that \\r\\nyou need to pose to him or her is \"How many people have you positioned with this employer, the one you might be contacting me about, previously 12 months? They're lawyers or attorney recruiters who help the unemployed land a job.\\r\\n\\r\\nWho are you aware who is aware of somebody who knows some else at the company you might be serious about? Thus, somebody who began out handling a single aspect of the nationwide actions for the company’s operations would finally handle only a small portion of that original side. Iris posted on the Gmail Help forum instructions for determining whether or not somebody is forwarding mail to the account. Next, he left Swisscom to join a new cellular vendor, Orange CH, which allowed him the opportunity to assist construct a company from scratch. The subsequent method and likewise the newest solution to recruit help is to make use of a web-based service. As I considered his career, I might clearly see a method out for people who discover themselves in an excessively circumscribed, ever-narrowing job in an more and more specialized industry where little differentiation seems to be attainable. All that’s left for us to do now could be to send out our best agents out to apprehend the scofflaws, now that we've got uncovered their nefarious plot.\\r\\n\\r\\nShe might attempt to get attention by saying, \"I’m \\r\\na marketing advisor.\" In a single ear and out the other. However, every reply follows the same format off hooking consideration by focusing on an issue. Use an alternate digital or paper format. Ask your self: Do you really need to use Executive Search Services to search out your nnew leader? Instead, at this time's' most successful businesses are turning to skilled headhunters tto finish their govt search in China. Search for headhunter positions on websites like Glassdoor, Indeed, or LinkedIn. Also feedback in a LinkedIn (or different social media) saying 'I am involved' or 'I qualify' do not yield any outcomes. While the Deell method is great forr handling progress, it can be stultifying for the individuals whose jobs grow to be smaller and smaller in scope as the company’s imension will increase. Right now, there are still more jobs which are cut than new hires. Whether or not you ever have that type of alternative, you'll turn out to be effectively prepared to take on thrilling new roles and to be mire profitable on the older ones.&format=text/html&timeout=0&debug=on&run=Go   \n",
      "4  With the advantages of utilizing a job recruiter weighed towards the disadvantages you'll discover that most often using a job headhunter is not \\r\\nthe very best option for you or your organization. Whhen Mr.\\r\\nDelbart’s job att Orajge CH turned redundant, he was employed \\r\\nas Head of Support for Transport Publics Genevois, a personal \\r\\ncompany offering transport facilities to the public.\\r\\nLet me let you know slightly about Mr. Delbart’s career before analyzing \\r\\nthe common principles that it is best to observe.\\r\\nSince 2009, Betts Recruiting has been serving to veterans \\r\\nmake career dreams come true and serving to corporations scale \\r\\nfor growth. At the time, he was inquisitive about having a technical profession related to Information Technology (IT) improvement and maintenance.\\r\\n\\r\\nHaving learned about the value of an MBA program from a colleague, he next started \\r\\nfinding out at Rushmore University, where he centered on the idea and follow of promoting, sustainable growth, the Internet, \\r\\nandd IT. An unexpected benefit of his MBA program was learning the right way to be simpler in researching and understanding \\r\\nnew topics on his personal, making iit easier for \\r\\nhim to prokceed his schooling after graduating.Seeking much more variety and scope for his profession, he joined with a associate to launch a \\r\\nweb design agency.\\r\\n\\r\\nRight now, it haas yet to point out up in current government efficiency knowledge,\\r\\nannd truly, tthe latest jobs report showed even a slight drop within the number of financial professionals.\\r\\nEven if the person you’re talking to doesn’t endure from that \\r\\nspecific problem, by specializing in problems moderately than some bland recitation about what you \"do\", you dramatically increase \\r\\nthe chance that they will remember you. You will want to think aout your consolation level with different coaching strategies, comparable to speaking in entrance of \\r\\nmassive groups, one-on-one coaching, talking over the telephone, corresponding \\r\\nby electronic mail or another platform, and find the supply platform that works finest for you.\\r\\nThe point is that if you want to get someone’s attention yyou should concentrate on the \\r\\nproblems that you simply clear up. In some unspecified time in the future \\r\\nthe one distinction between you and the latest employee \\r\\nis thaqt you've got more experience. If a headhunter contacts you about a specific job, the primary question that \\r\\nyou need to pose to him or her is \"How many people have you positioned with this employer, the one you might be contacting me about, previously 12 months? They're lawyers or attorney recruiters who help the unemployed land a job.\\r\\n\\r\\nWho are you aware who is aware of somebody who knows some else at the company you might be serious about? Thus, somebody who began out handling a single aspect of the nationwide actions for the company’s operations would finally handle only a small portion of that original side. Iris posted on the Gmail Help forum instructions for determining whether or not somebody is forwarding mail to the account. Next, he left Swisscom to join a new cellular vendor, Orange CH, which allowed him the opportunity to assist construct a company from scratch. The subsequent method and likewise the newest solution to recruit help is to make use of a web-based service. As I considered his career, I might clearly see a method out for people who discover themselves in an excessively circumscribed, ever-narrowing job in an more and more specialized industry where little differentiation seems to be attainable. All that’s left for us to do now could be to send out our best agents out to apprehend the scofflaws, now that we've got uncovered their nefarious plot.\\r\\n\\r\\nShe might attempt to get attention by saying, \"I’m \\r\\na marketing advisor.\" In a single ear and out the other. However, every reply follows the same format off hooking consideration by focusing on an issue. Use an alternate digital or paper format. Ask your self: Do you really need to use Executive Search Services to search out your nnew leader? Instead, at this time's' most successful businesses are turning to skilled headhunters tto finish their govt search in China. Search for headhunter positions on websites like Glassdoor, Indeed, or LinkedIn. Also feedback in a LinkedIn (or different social media) saying 'I am involved' or 'I qualify' do not yield any outcomes. While the Deell method is great forr handling progress, it can be stultifying for the individuals whose jobs grow to be smaller and smaller in scope as the company’s imension will increase. Right now, there are still more jobs which are cut than new hires. Whether or not you ever have that type of alternative, you'll turn out to be effectively prepared to take on thrilling new roles and to be mire profitable on the older ones.&format=text/html&timeout=0&debug=on&run=Go   \n",
      "\n",
      "        domain  \\\n",
      "0  bio2rdf.org   \n",
      "1  bio2rdf.org   \n",
      "2  bio2rdf.org   \n",
      "3  bio2rdf.org   \n",
      "4  bio2rdf.org   \n",
      "\n",
      "                                                                                                                                            agent  \\\n",
      "0                                                                                               Umaka-Crawler/1.0.0 by DBCLS (umakadata@dbcls.jp)   \n",
      "1                                                                                               Umaka-Crawler/1.0.0 by DBCLS (umakadata@dbcls.jp)   \n",
      "2                              Mozilla/5.0 (Windows NT 6.3; Win64; x64) AppleWebKit/537.36 (KHTML, like Gecko) Chrome/80.0.3987.132 Safari/537.36   \n",
      "3  Mozilla/5.0 (Windows NT 10.0; WOW64) AppleWebKit/537.36 (KHTML, like Gecko) Chrome/63.0.3239.132 YaBrowser/18.2.1.196 Yowser/2.5 Safari/537.36   \n",
      "4  Mozilla/5.0 (Windows NT 10.0; WOW64) AppleWebKit/537.36 (KHTML, like Gecko) Chrome/63.0.3239.132 YaBrowser/18.2.1.196 Yowser/2.5 Safari/537.36   \n",
      "\n",
      "                  timestamp  \n",
      "0  2020-03-11T06:13:19.227Z  \n",
      "1  2020-03-11T06:18:36.078Z  \n",
      "2  2020-03-11T13:48:04.625Z  \n",
      "3  2021-04-20T10:18:11.078Z  \n",
      "4  2021-04-20T10:18:11.132Z  \n"
     ]
    }
   ],
   "source": [
    "import pandas as pd\n",
    "\n",
    "df = pd.read_csv('bio2rdf_sparql_logs_processed_01-2019_to_07-2021.csv', lineterminator='\\n', dtype=str)\n",
    "\n",
    "# Count the number of null values in each column\n",
    "null_counts = df.isnull().sum()\n",
    "\n",
    "print(\"Null value counts:\")\n",
    "print(null_counts)\n",
    "print(len(df))\n",
    "pd.set_option('display.max_colwidth', None)  # Display full content of columns\n",
    "print(df.head())"
   ]
  },
  {
   "cell_type": "markdown",
   "id": "d89de09f-e5b9-4220-884a-ff4963a335cf",
   "metadata": {},
   "source": [
    "## 2. We remove all queries from the part starts with any of these keywords:\n",
    "\n",
    "keywords = [\"&format\", \"&timeout\", \"&debug\", \"&run\", \"&maxrows\", \"&infer\", \"&output\", \"&results\", \"&default-graph-uri\"]\n"
   ]
  },
  {
   "cell_type": "code",
   "execution_count": 9,
   "id": "fe19cb7f-7961-44ad-8ca3-7853de6342a4",
   "metadata": {
    "tags": []
   },
   "outputs": [
    {
     "name": "stdout",
     "output_type": "stream",
     "text": [
      "done\n"
     ]
    }
   ],
   "source": [
    "import csv\n",
    "import re\n",
    "\n",
    "def remove_keywords(query):\n",
    "    # List of keywords to remove\n",
    "    keywords = [\"&format\", \"&timeout\", \"&debug\", \"&run\", \"&maxrows\", \"&infer\", \"&output\", \"&results\", \"&default-graph-uri\"]\n",
    "\n",
    "    # Regular expression to find any of the keywords in the query\n",
    "    regex = '|'.join(re.escape(keyword) for keyword in keywords)\n",
    "\n",
    "    # Remove the matched part of the query and everything after it\n",
    "    query = re.sub(rf'({regex}).*', '', query)\n",
    "\n",
    "    return query.strip()\n",
    "\n",
    "def process_csv(input_file, output_file):\n",
    "    with open(input_file, 'r', newline='', encoding='utf-8') as infile, \\\n",
    "            open(output_file, 'w', newline='', encoding='utf-8') as outfile:\n",
    "        # Remove null characters from the input\n",
    "        content = infile.read().replace('\\x00', '')\n",
    "\n",
    "        # Split content into lines and process each line\n",
    "        lines = content.splitlines()\n",
    "\n",
    "        # Read the first line as header to get field names\n",
    "        reader = csv.DictReader(lines)\n",
    "        fieldnames = reader.fieldnames\n",
    "\n",
    "        writer = csv.DictWriter(outfile, fieldnames=fieldnames, lineterminator='\\n', dialect='excel')\n",
    "        writer.writeheader()\n",
    "\n",
    "        for row in reader:\n",
    "            row['query'] = remove_keywords(row['query'])\n",
    "            writer.writerow(row)\n",
    "\n",
    "if __name__ == \"__main__\":\n",
    "    input_csv_file = \"bio2rdf_sparql_logs_processed_01-2019_to_07-2021.csv\"\n",
    "    output_csv_file = \"removedformats_bio2rdf_logs.csv\"\n",
    "    process_csv(input_csv_file, output_csv_file)\n",
    "    print('done')\n"
   ]
  },
  {
   "cell_type": "code",
   "execution_count": 25,
   "id": "4ad9cfd8",
   "metadata": {
    "tags": []
   },
   "outputs": [
    {
     "name": "stdout",
     "output_type": "stream",
     "text": [
      "3880960\n",
      "                                                                                                                                                                                                                                                                                                                                                                                                                                                                                                                                                                                                                                                                                                                                                                                                                                                                                                                                                                                                                                                                                                                                                                                                                                                                                                                                                                                                                                                                                                                                                                                                                                                                                                                                                                                                                                                                                                                                                                                                                                                                                                                                                                                                                                                                                                                                                                                                                                                                                                                                                                                                                                                                                                                                                                                                                                                                                                                                                                                                                                                                                                                                                                                                                                                                                                                                                                                                                                                                                                                                                                                                                                                                                                                                                                                                                                                                                                                                                                                                                                                                                                                                                                                                                                                                                                                                                                                                                                                                                                                                                                                                                                                                                                                                                                                                                                                                                                                                           query  \\\n",
      "0                                                                                                                                                                                                                                                                                                                                                                                                                                                                                                                                                                                                                                                                                                                                                                                                                                                                                                                                                                                                                                                                                                                                                                                                                                                                                                                                                                                                                                                                                                                                                                                                                                                                                                                                                                                                                                                                                                                                                                                                                                                                                                                                                                                                                                                                                                                                                                                                                                                                                                                                                                                                                                                                                                                                                                                                                                                                                                                                                                                                                                                                                                                                                                                                                                                                                                                                                                                                                                                                                                                                                                                                                                                                                                                                                                                                                                                                                                                                                                                                                                                                                                                                                                                                                                                                                                                                                                                                                                                                                                                                                                                                                                                                                                                                                                                                                                                  CONSTRUCT { ?s ?p ?o . } WHERE { SERVICE <http://bio2rdf.org/sparql> { ?s ?p ?o . } } LIMIT 1   \n",
      "1                                                                                                                                                                                                                                                                                                                                                                                                                                                                                                                                                                                                                                                                                                                                                                                                                                                                                                                                                                                                                                                                                                                                                                                                                                                                                                                                                                                                                                                                                                                                                                                                                                                                                                                                                                                                                                                                                                                                                                                                                                                                                                                                                                                                                                                                                                                                                                                                                                                                                                                                                                                                                                                                                                                                                                                                                                                                                                                                                                                                                                                                                                                                                                                                                                                                                                                                                                                                                                                                                                                                                                                                                                                                                                                                                                                                                                                                                                                                                                                                                                                                                                                                                                                                                                                                                                                                                                                                                                                                                                                                                                                                                                                                                                                                                SELECT DISTINCT ?prefix WHERE { { SELECT DISTINCT ?p WHERE { ?s ?p ?o . } } . BIND(IF(CONTAINS(STR(?p), \"#\"), REPLACE(STR(?p), \"#[^#]*$\", \"#\"), REPLACE(STR(?p), \"/[^/]*$\", \"/\")) AS ?prefix) }   \n",
      "2                                                                                                                                                                                                                                                                                                                                                                                                                                                                                                                                                                                                                                                                                                                                                                                                                                                                                                                                                                                                                                                                                                                                                                                                                                                                                                                                                                                                                                                                                                                                                                                                                                                                                                                                                                                                                                                                                                                                                                                                                                                                                                                                                                                                                                                                                                                                                                                                                                                                                                                                                                                                                                                                                                                                                                                                                                                                                                                                                                                                                                                                                                                                                                                                                                                                                                                                                                                                                                                                                                                                                                                                                                                                                                                                                                                                                                                                                                                                                                                                                                                                                                                                                                                                                                                                                                                                                                                                                                                                                                                                                                                                                                                                                                                                                                                                                                                                                                       select * where {[] a ?Concept} LIMIT 100   \n",
      "3  With the advantages of utilizing a job recruiter weighed towards the disadvantages you'll discover that most often using a job headhunter is not the very best option for you or your organization. Whhen Mr.Delbart’s job att Orajge CH turned redundant, he was employed as Head of Support for Transport Publics Genevois, a personal company offering transport facilities to the public.Let me let you know slightly about Mr. Delbart’s career before analyzing the common principles that it is best to observe.Since 2009, Betts Recruiting has been serving to veterans make career dreams come true and serving to corporations scale for growth. At the time, he was inquisitive about having a technical profession related to Information Technology (IT) improvement and maintenance.Having learned about the value of an MBA program from a colleague, he next started finding out at Rushmore University, where he centered on the idea and follow of promoting, sustainable growth, the Internet, andd IT. An unexpected benefit of his MBA program was learning the right way to be simpler in researching and understanding new topics on his personal, making iit easier for him to prokceed his schooling after graduating.Seeking much more variety and scope for his profession, he joined with a associate to launch a web design agency.Right now, it haas yet to point out up in current government efficiency knowledge,annd truly, tthe latest jobs report showed even a slight drop within the number of financial professionals.Even if the person you’re talking to doesn’t endure from that specific problem, by specializing in problems moderately than some bland recitation about what you \"do\", you dramatically increase the chance that they will remember you. You will want to think aout your consolation level with different coaching strategies, comparable to speaking in entrance of massive groups, one-on-one coaching, talking over the telephone, corresponding by electronic mail or another platform, and find the supply platform that works finest for you.The point is that if you want to get someone’s attention yyou should concentrate on the problems that you simply clear up. In some unspecified time in the future the one distinction between you and the latest employee is thaqt you've got more experience. If a headhunter contacts you about a specific job, the primary question that you need to pose to him or her is \"How many people have you positioned with this employer, the one you might be contacting me about, previously 12 months? They're lawyers or attorney recruiters who help the unemployed land a job.Who are you aware who is aware of somebody who knows some else at the company you might be serious about? Thus, somebody who began out handling a single aspect of the nationwide actions for the company’s operations would finally handle only a small portion of that original side. Iris posted on the Gmail Help forum instructions for determining whether or not somebody is forwarding mail to the account. Next, he left Swisscom to join a new cellular vendor, Orange CH, which allowed him the opportunity to assist construct a company from scratch. The subsequent method and likewise the newest solution to recruit help is to make use of a web-based service. As I considered his career, I might clearly see a method out for people who discover themselves in an excessively circumscribed, ever-narrowing job in an more and more specialized industry where little differentiation seems to be attainable. All that’s left for us to do now could be to send out our best agents out to apprehend the scofflaws, now that we've got uncovered their nefarious plot.She might attempt to get attention by saying, \"I’m a marketing advisor.\" In a single ear and out the other. However, every reply follows the same format off hooking consideration by focusing on an issue. Use an alternate digital or paper format. Ask your self: Do you really need to use Executive Search Services to search out your nnew leader? Instead, at this time's' most successful businesses are turning to skilled headhunters tto finish their govt search in China. Search for headhunter positions on websites like Glassdoor, Indeed, or LinkedIn. Also feedback in a LinkedIn (or different social media) saying 'I am involved' or 'I qualify' do not yield any outcomes. While the Deell method is great forr handling progress, it can be stultifying for the individuals whose jobs grow to be smaller and smaller in scope as the company’s imension will increase. Right now, there are still more jobs which are cut than new hires. Whether or not you ever have that type of alternative, you'll turn out to be effectively prepared to take on thrilling new roles and to be mire profitable on the older ones.   \n",
      "4  With the advantages of utilizing a job recruiter weighed towards the disadvantages you'll discover that most often using a job headhunter is not the very best option for you or your organization. Whhen Mr.Delbart’s job att Orajge CH turned redundant, he was employed as Head of Support for Transport Publics Genevois, a personal company offering transport facilities to the public.Let me let you know slightly about Mr. Delbart’s career before analyzing the common principles that it is best to observe.Since 2009, Betts Recruiting has been serving to veterans make career dreams come true and serving to corporations scale for growth. At the time, he was inquisitive about having a technical profession related to Information Technology (IT) improvement and maintenance.Having learned about the value of an MBA program from a colleague, he next started finding out at Rushmore University, where he centered on the idea and follow of promoting, sustainable growth, the Internet, andd IT. An unexpected benefit of his MBA program was learning the right way to be simpler in researching and understanding new topics on his personal, making iit easier for him to prokceed his schooling after graduating.Seeking much more variety and scope for his profession, he joined with a associate to launch a web design agency.Right now, it haas yet to point out up in current government efficiency knowledge,annd truly, tthe latest jobs report showed even a slight drop within the number of financial professionals.Even if the person you’re talking to doesn’t endure from that specific problem, by specializing in problems moderately than some bland recitation about what you \"do\", you dramatically increase the chance that they will remember you. You will want to think aout your consolation level with different coaching strategies, comparable to speaking in entrance of massive groups, one-on-one coaching, talking over the telephone, corresponding by electronic mail or another platform, and find the supply platform that works finest for you.The point is that if you want to get someone’s attention yyou should concentrate on the problems that you simply clear up. In some unspecified time in the future the one distinction between you and the latest employee is thaqt you've got more experience. If a headhunter contacts you about a specific job, the primary question that you need to pose to him or her is \"How many people have you positioned with this employer, the one you might be contacting me about, previously 12 months? They're lawyers or attorney recruiters who help the unemployed land a job.Who are you aware who is aware of somebody who knows some else at the company you might be serious about? Thus, somebody who began out handling a single aspect of the nationwide actions for the company’s operations would finally handle only a small portion of that original side. Iris posted on the Gmail Help forum instructions for determining whether or not somebody is forwarding mail to the account. Next, he left Swisscom to join a new cellular vendor, Orange CH, which allowed him the opportunity to assist construct a company from scratch. The subsequent method and likewise the newest solution to recruit help is to make use of a web-based service. As I considered his career, I might clearly see a method out for people who discover themselves in an excessively circumscribed, ever-narrowing job in an more and more specialized industry where little differentiation seems to be attainable. All that’s left for us to do now could be to send out our best agents out to apprehend the scofflaws, now that we've got uncovered their nefarious plot.She might attempt to get attention by saying, \"I’m a marketing advisor.\" In a single ear and out the other. However, every reply follows the same format off hooking consideration by focusing on an issue. Use an alternate digital or paper format. Ask your self: Do you really need to use Executive Search Services to search out your nnew leader? Instead, at this time's' most successful businesses are turning to skilled headhunters tto finish their govt search in China. Search for headhunter positions on websites like Glassdoor, Indeed, or LinkedIn. Also feedback in a LinkedIn (or different social media) saying 'I am involved' or 'I qualify' do not yield any outcomes. While the Deell method is great forr handling progress, it can be stultifying for the individuals whose jobs grow to be smaller and smaller in scope as the company’s imension will increase. Right now, there are still more jobs which are cut than new hires. Whether or not you ever have that type of alternative, you'll turn out to be effectively prepared to take on thrilling new roles and to be mire profitable on the older ones.   \n",
      "\n",
      "        domain  \\\n",
      "0  bio2rdf.org   \n",
      "1  bio2rdf.org   \n",
      "2  bio2rdf.org   \n",
      "3  bio2rdf.org   \n",
      "4  bio2rdf.org   \n",
      "\n",
      "                                                                                                                                            agent  \\\n",
      "0                                                                                               Umaka-Crawler/1.0.0 by DBCLS (umakadata@dbcls.jp)   \n",
      "1                                                                                               Umaka-Crawler/1.0.0 by DBCLS (umakadata@dbcls.jp)   \n",
      "2                              Mozilla/5.0 (Windows NT 6.3; Win64; x64) AppleWebKit/537.36 (KHTML, like Gecko) Chrome/80.0.3987.132 Safari/537.36   \n",
      "3  Mozilla/5.0 (Windows NT 10.0; WOW64) AppleWebKit/537.36 (KHTML, like Gecko) Chrome/63.0.3239.132 YaBrowser/18.2.1.196 Yowser/2.5 Safari/537.36   \n",
      "4  Mozilla/5.0 (Windows NT 10.0; WOW64) AppleWebKit/537.36 (KHTML, like Gecko) Chrome/63.0.3239.132 YaBrowser/18.2.1.196 Yowser/2.5 Safari/537.36   \n",
      "\n",
      "                  timestamp  \n",
      "0  2020-03-11T06:13:19.227Z  \n",
      "1  2020-03-11T06:18:36.078Z  \n",
      "2  2020-03-11T13:48:04.625Z  \n",
      "3  2021-04-20T10:18:11.078Z  \n",
      "4  2021-04-20T10:18:11.132Z  \n"
     ]
    }
   ],
   "source": [
    "import pandas as pd\n",
    "\n",
    "df = pd.read_csv('removedformats_bio2rdf_logs.csv', lineterminator='\\n', dtype=str)\n",
    "\n",
    "print(len(df))\n",
    "\n",
    "print(df.head())"
   ]
  },
  {
   "cell_type": "markdown",
   "id": "8e09da1f",
   "metadata": {},
   "source": [
    "\n",
    "\n",
    "## Why number of queries increased to 3880960 after removing those keywords? what is the bug?"
   ]
  },
  {
   "cell_type": "markdown",
   "id": "51fda428-d9c7-4b72-b4e7-8cd9980bc6d0",
   "metadata": {},
   "source": [
    "## 3. We extract unique queries and their count"
   ]
  },
  {
   "cell_type": "code",
   "execution_count": 18,
   "id": "b57a3888",
   "metadata": {
    "tags": []
   },
   "outputs": [
    {
     "name": "stdout",
     "output_type": "stream",
     "text": [
      "Unique queries extracted with counts and written to unique_bio2rdf_sparql_logs_with_counts.csv\n"
     ]
    }
   ],
   "source": [
    "import csv\n",
    "\n",
    "def extract_unique_queries(input_file, output_file):\n",
    "    try:\n",
    "        # Initialize a dictionary to store query counts\n",
    "        query_counts = {}\n",
    "\n",
    "        with open(input_file, 'r', newline='', encoding='utf-8') as infile:\n",
    "            reader = csv.DictReader(infile)\n",
    "\n",
    "            # Iterate through the rows and count queries\n",
    "            for row in reader:\n",
    "                query = row['query']  # Assuming 'query' is the correct column name\n",
    "                query_counts[query] = query_counts.get(query, 0) + 1\n",
    "\n",
    "        # Sort queries and their counts based on the count column in descending order\n",
    "        sorted_queries = sorted(query_counts.items(), key=lambda item: item[1], reverse=True)\n",
    "\n",
    "        # Write sorted queries and their counts to the output CSV file\n",
    "        with open(output_file, 'w', newline='', encoding='utf-8') as outfile:\n",
    "            writer = csv.writer(outfile, lineterminator='\\n')\n",
    "            writer.writerow(['query', 'count'])  # Write header\n",
    "\n",
    "            for query, count in sorted_queries:\n",
    "                writer.writerow([query, count])\n",
    "\n",
    "        print(\"Unique queries extracted with counts and written to\", output_file)\n",
    "\n",
    "    except FileNotFoundError:\n",
    "        print(\"Error: Input CSV file not found.\")\n",
    "    except Exception as e:\n",
    "        print(\"An error occurred:\", e)\n",
    "\n",
    "# Replace 'input_file.csv' with the name of your CSV file and 'output_file.csv' with the desired output filename\n",
    "extract_unique_queries('removedformats_bio2rdf_logs.csv', 'unique_bio2rdf_sparql_logs_with_counts.csv')\n"
   ]
  },
  {
   "cell_type": "code",
   "execution_count": 20,
   "id": "4f75873c",
   "metadata": {
    "tags": []
   },
   "outputs": [
    {
     "name": "stdout",
     "output_type": "stream",
     "text": [
      "1051679\n"
     ]
    },
    {
     "data": {
      "text/html": [
       "<div>\n",
       "<style scoped>\n",
       "    .dataframe tbody tr th:only-of-type {\n",
       "        vertical-align: middle;\n",
       "    }\n",
       "\n",
       "    .dataframe tbody tr th {\n",
       "        vertical-align: top;\n",
       "    }\n",
       "\n",
       "    .dataframe thead th {\n",
       "        text-align: right;\n",
       "    }\n",
       "</style>\n",
       "<table border=\"1\" class=\"dataframe\">\n",
       "  <thead>\n",
       "    <tr style=\"text-align: right;\">\n",
       "      <th></th>\n",
       "      <th>query</th>\n",
       "      <th>count</th>\n",
       "    </tr>\n",
       "  </thead>\n",
       "  <tbody>\n",
       "    <tr>\n",
       "      <th>0</th>\n",
       "      <td>ASKWHERE  { ?s ?p ?o}</td>\n",
       "      <td>539922</td>\n",
       "    </tr>\n",
       "    <tr>\n",
       "      <th>1</th>\n",
       "      <td>SELECT  ?sWHERE  { ?s ?p ?o}LIMIT   1</td>\n",
       "      <td>365078</td>\n",
       "    </tr>\n",
       "    <tr>\n",
       "      <th>2</th>\n",
       "      <td>SELECT  ?tWHERE  { ?x  ?y  ?t }LIMIT   1</td>\n",
       "      <td>244841</td>\n",
       "    </tr>\n",
       "    <tr>\n",
       "      <th>3</th>\n",
       "      <td>ASKWHERE  { ?s  ?p  ?o }</td>\n",
       "      <td>83599</td>\n",
       "    </tr>\n",
       "    <tr>\n",
       "      <th>4</th>\n",
       "      <td>SELECT  (COUNT(?c) AS ?x)WHERE  { ?s &lt;http://www.w3.org/1999/02/22-rdf-syntax-ns#type&gt; ?c}</td>\n",
       "      <td>44671</td>\n",
       "    </tr>\n",
       "    <tr>\n",
       "      <th>5</th>\n",
       "      <td>SELECT  (COUNT(?p) AS ?x)WHERE  { ?s ?p ?o}</td>\n",
       "      <td>44662</td>\n",
       "    </tr>\n",
       "    <tr>\n",
       "      <th>6</th>\n",
       "      <td>SELECT ?s WHERE  { ?s ?p ?o } LIMIT 1</td>\n",
       "      <td>35443</td>\n",
       "    </tr>\n",
       "    <tr>\n",
       "      <th>7</th>\n",
       "      <td>ASK WHERE { ?s ?p ?o }</td>\n",
       "      <td>35441</td>\n",
       "    </tr>\n",
       "    <tr>\n",
       "      <th>8</th>\n",
       "      <td>SELECT  *WHERE  { ?s ?p ?o}LIMIT   1</td>\n",
       "      <td>13762</td>\n",
       "    </tr>\n",
       "    <tr>\n",
       "      <th>9</th>\n",
       "      <td>SELECT  *WHERE  { ?s ?p ?o}LIMIT   100002</td>\n",
       "      <td>13701</td>\n",
       "    </tr>\n",
       "  </tbody>\n",
       "</table>\n",
       "</div>"
      ],
      "text/plain": [
       "                                                                                        query  \\\n",
       "0                                                                       ASKWHERE  { ?s ?p ?o}   \n",
       "1                                                       SELECT  ?sWHERE  { ?s ?p ?o}LIMIT   1   \n",
       "2                                                    SELECT  ?tWHERE  { ?x  ?y  ?t }LIMIT   1   \n",
       "3                                                                    ASKWHERE  { ?s  ?p  ?o }   \n",
       "4  SELECT  (COUNT(?c) AS ?x)WHERE  { ?s <http://www.w3.org/1999/02/22-rdf-syntax-ns#type> ?c}   \n",
       "5                                                 SELECT  (COUNT(?p) AS ?x)WHERE  { ?s ?p ?o}   \n",
       "6                                                       SELECT ?s WHERE  { ?s ?p ?o } LIMIT 1   \n",
       "7                                                                      ASK WHERE { ?s ?p ?o }   \n",
       "8                                                        SELECT  *WHERE  { ?s ?p ?o}LIMIT   1   \n",
       "9                                                   SELECT  *WHERE  { ?s ?p ?o}LIMIT   100002   \n",
       "\n",
       "    count  \n",
       "0  539922  \n",
       "1  365078  \n",
       "2  244841  \n",
       "3   83599  \n",
       "4   44671  \n",
       "5   44662  \n",
       "6   35443  \n",
       "7   35441  \n",
       "8   13762  \n",
       "9   13701  "
      ]
     },
     "execution_count": 20,
     "metadata": {},
     "output_type": "execute_result"
    }
   ],
   "source": [
    "import pandas as pd\n",
    "\n",
    "df = pd.read_csv('unique_bio2rdf_sparql_logs_with_counts.csv', lineterminator='\\n', dtype=str)\n",
    "\n",
    "print(len(df))\n",
    "df.head(10)\n",
    "\n"
   ]
  },
  {
   "cell_type": "markdown",
   "id": "f844e000",
   "metadata": {},
   "source": [
    "## 4. We group similar queries and map them to a representative member\n",
    "\n",
    "**Note**: with all queries. We will repeat this step with only valid queries i.e. parsed queries."
   ]
  },
  {
   "cell_type": "code",
   "execution_count": 21,
   "id": "a8e76965",
   "metadata": {
    "tags": []
   },
   "outputs": [
    {
     "name": "stdout",
     "output_type": "stream",
     "text": [
      "Requirement already satisfied: scikit-learn in /opt/conda/lib/python3.8/site-packages (1.1.2)\n",
      "Requirement already satisfied: numpy>=1.17.3 in /opt/conda/lib/python3.8/site-packages (from scikit-learn) (1.23.3)\n",
      "Requirement already satisfied: scipy>=1.3.2 in /opt/conda/lib/python3.8/site-packages (from scikit-learn) (1.9.1)\n",
      "Requirement already satisfied: joblib>=1.0.0 in /opt/conda/lib/python3.8/site-packages (from scikit-learn) (1.2.0)\n",
      "Requirement already satisfied: threadpoolctl>=2.0.0 in /opt/conda/lib/python3.8/site-packages (from scikit-learn) (3.1.0)\n",
      "Note: you may need to restart the kernel to use updated packages.\n"
     ]
    }
   ],
   "source": [
    "pip install scikit-learn\n"
   ]
  },
  {
   "cell_type": "code",
   "execution_count": 24,
   "id": "990bcb42-71f8-4f17-9b1c-6cee2ee2baf6",
   "metadata": {
    "tags": []
   },
   "outputs": [
    {
     "name": "stdout",
     "output_type": "stream",
     "text": [
      "Cluster 1 Representative Query: SELECT ?s ?p ?o WHERE{?s ?p ?o} OFFSET 5 LIMIT 1\n",
      "Cluster 2 Representative Query: SELECT ?it1 ?st1 ?p01 ?p11 ?p21 ?x31 ?p31 ?p32 ?x32 ?p33WHERE {?it1 ?st1 <http://bio2rdf.org/go:0060071> . ?it1 ?p01 <http://bio2rdf.org/kegg_vocabulary:gene> . <http://bio2rdf.org/kegg_vocabulary:gene> ?p11 <http://bio2rdf.org/drugbank_vocabulary:target> . <http://bio2rdf.org/drugbank_vocabulary:target> ?p21 <http://bio2rdf.org/kegg_vocabulary:drug> . ?x31 ?p31 <http://bio2rdf.org/kegg_vocabulary:drug> . ?x31 ?p32 ?x32 . <http://bio2rdf.org/omim_resource:aa2721c8b2d3d6c5f3b040fa1a98ecc9> ?p33 ?x32 . FILTER (isIRI(?it1) && isIRI(?x31) && isIRI(?x32)) FILTER (?it1 != ?x31) FILTER (?it1 != ?x32) FILTER (?x31 != ?x32) FILTER (str(?p01) NOT IN (\"http://rdfs.org/ns/void#inDataset\", \"http://bio2rdf.org/omim_vocabulary:refers-to\", \"http://bio2rdf.org/omim_vocabulary:article\", \"http://bio2rdf.org/omim_vocabulary:mapping-method\", \"http://www.w3.org/1999/02/22-rdf-syntax-ns#type\", \"http://www.w3.org/2000/01/rdf-schema#subClassOf\")) FILTER (str(?p11) NOT IN (\"http://rdfs.org/ns/void#inDataset\", \"http://bio2rdf.org/omim_vocabulary:refers-to\", \"http://bio2rdf.org/omim_vocabulary:article\", \"http://bio2rdf.org/omim_vocabulary:mapping-method\", \"http://www.w3.org/1999/02/22-rdf-syntax-ns#type\", \"http://www.w3.org/2000/01/rdf-schema#subClassOf\")) FILTER (str(?p21) NOT IN (\"http://rdfs.org/ns/void#inDataset\", \"http://bio2rdf.org/omim_vocabulary:refers-to\", \"http://bio2rdf.org/omim_vocabulary:article\", \"http://bio2rdf.org/omim_vocabulary:mapping-method\", \"http://www.w3.org/1999/02/22-rdf-syntax-ns#type\", \"http://www.w3.org/2000/01/rdf-schema#subClassOf\")) FILTER (str(?p31) NOT IN (\"http://rdfs.org/ns/void#inDataset\", \"http://bio2rdf.org/omim_vocabulary:refers-to\", \"http://bio2rdf.org/omim_vocabulary:article\", \"http://bio2rdf.org/omim_vocabulary:mapping-method\", \"http://www.w3.org/1999/02/22-rdf-syntax-ns#type\", \"http://www.w3.org/2000/01/rdf-schema#subClassOf\")) FILTER (str(?p32) NOT IN (\"http://rdfs.org/ns/void#inDataset\", \"http://bio2rdf.org/omim_vocabulary:refers-to\", \"http://bio2rdf.org/omim_vocabulary:article\", \"http://bio2rdf.org/omim_vocabulary:mapping-method\", \"http://www.w3.org/1999/02/22-rdf-syntax-ns#type\", \"http://www.w3.org/2000/01/rdf-schema#subClassOf\")) FILTER (str(?p33) NOT IN (\"http://rdfs.org/ns/void#inDataset\", \"http://bio2rdf.org/omim_vocabulary:refers-to\", \"http://bio2rdf.org/omim_vocabulary:article\", \"http://bio2rdf.org/omim_vocabulary:mapping-method\", \"http://www.w3.org/1999/02/22-rdf-syntax-ns#type\", \"http://www.w3.org/2000/01/rdf-schema#subClassOf\")) FILTER (str(?st1) IN (\"http://www.w3.org/1999/02/22-rdf-syntax-ns#type\", \"http://www.w3.org/2000/01/rdf-schema#subClassOf\"))} LIMIT 10\n",
      "Cluster 3 Representative Query: PREFIX  rdfs: <http://www.w3.org/2000/01/rdf-schema#>PREFIX  owl:  <http://www.w3.org/2002/07/owl#>PREFIX  rdf:  <http://www.w3.org/1999/02/22-rdf-syntax-ns#>SELECT  (COUNT(?i) AS ?numTriples) (COUNT(DISTINCT ?i) AS ?numDomIns) (COUNT(DISTINCT ?o) AS ?numRanIns)FROM <http://bio2rdf.org/omim_resource:bio2rdf.dataset.omim.R3>WHERE  { { SELECT DISTINCT  ?i ?o      WHERE        { ?i  <http://bio2rdf.org/omim_vocabulary:x-wormbase>  ?o ;              rdf:type              <http://bio2rdf.org/omim_vocabulary:Gene> .          ?o  rdf:type              <http://bio2rdf.org/wormbase_vocabulary:Resource>        }    }  }\n",
      "Cluster 4 Representative Query: SELECT  (count(*) AS ?count)WHERE  { ?s  ?p  ?o }OFFSET  0LIMIT   10000\n",
      "Cluster 5 Representative Query: SELECT DISTINCT  ?s ?p2WHERE  { ?s ?p ?o    OPTIONAL      { ?s ?p2 <http://nonsensical.com/1/1556512394695>}  }LIMIT   1000\n",
      "Cluster 6 Representative Query: PREFIX adhoc: <http://linked.opendata.cz/ontology/adhoc/>CONSTRUCT {  [] adhoc:property ?Property ;    adhoc:sourceClass ?Class ;    adhoc:targetClass ?TargetClass ;    adhoc:endpointUri \"http://bio2rdf.org/sparql\" .} WHERE {  {    SELECT ?Class ?TargetClass ?Property\tWHERE {\t  VALUES (?resource ?Class  )  {  ( <http://bio2rdf.org/omim:100740> <http://bio2rdf.org/omim_vocabulary:Resource> )  }           ?resource ?Property ?targetResource .          OPTIONAL {            ?targetResource a ?TargetClass .          }\t}\tGROUP BY ?Class ?TargetClass ?Property  } }\n",
      "Cluster 7 Representative Query: CONSTRUCT   { <http://nonsensical.com/1> ?p ?o .}WHERE  { <http://nonsensical.com/1> ?p ?o}LIMIT   10\n",
      "Cluster 8 Representative Query: SELECT ( lang(?v) as ?lang ) ( count(*) as ?no ) { ?s ?p ?v } group by lang(?v)\n",
      "Cluster 9 Representative Query: Registro em 1XBET Portugal http://labtestsonline-pt.org/1xbet-portugal/Digite o codigo promocionalREGISTE-SE E RECEBA UM REMUNERATION DE 100 EUR AGORA MESMO!Convidamos todos quem quer ganhar nas apostas em desportos registrar-se rapidamente em uma casa de apostas mais justa da empresa 1XBet. O registro em 1XBET Portugal permite usar de todas as funcionalidades do place oficial, incluindo:retirada de fundos rapida atraves de qualquer sistema de pagamentos ou cartoes bancarias;servico de apoio a cliente conveniente que sempre ajudara esclarecer a situacao;interface e aplicacoes moveis funcionais.O bonus da 1XBET Portugal download da 1xbet para androidA casa de apostas, a todos que desejam receber os bonus agradaveis na sua conta, da essa oportunidade.E uma oportunidade real de ganhar dinheiro gracas a generosidade da administracao da empresa. O principal sempre era o perquisite de primeiro deposito.O reward e um adicional de 100% do valor do deposito de ate 130 euros, que serao imediatamente creditados na conta.O mais agradavel e a possibilidade de devolver o dinheiro recebido nas apostas ordinarias e expressas.A condicao master e que tem que escolher as partidas com coeficiente bastante alto, das quais e necessario formar um expresso completo. Para um novato recuperar aposta nao e uma tarefa facil, mas isso permite conhecer bem a interface da empresa de azar e aprender o basico de apostas.Como usar o codigo de promocao da 1xBet? http://labtestsonline-pt.org/1xbet-portugal/Usar o codigo de promocao e muito facil, pois a administracao permite fazer isso sem a participacao do servico de apoio a cliente.Basta de seguir uma instrucao intuitivamente clara:Primeira coisa que tem que fazer e ir para o portal oficial de jogos com o nosso relate e clicar em \"Registrar-se\" no canto select direito.A seguir, tem que selecionar um dos metodos de criacao da conta pessoal e inserir o codigo de promocao recebido, que tambem se encontra neste site.Apos preencher todos os dados, e necessario enviar um pedido e receber a conta ativada durante de um dia.Os usuarios nao devem esquecer da necessidade de confirmar o e-mail atraves de uma mensagem recebida.Todos os dados indicados durante registro devem ser verificados cuidadosamente e so podem ser verdadeiros, pois caso contrario, depois da verificacao por administracao a conta pode ser bloqueada.O que oferece a casa de apostas 1XBET O que oferece a casa de apostas 1XBETO registro na 1XBET Portugal permite a cada jogador apreciar um jogo de apostas em desporto divertido e excitado. Tudo que e necessario e ter uma conta registrada e ser um residente de Portugal maior da idade. E obrigatorio passar uma verificacao completa que da o acesso para gerenciamento das contas.A empresa oferece a todos os jogadores registrados as seguintes vantagens:uma enorme variedade de partidas e eventos politicos em quais pode apostar com um praticamente sem limites. Apenas administracao pode limitar o montante maximo de aposta, entretanto os coeficientes sao colocados independentemente do nivel da partida;varias maneiras de deposito e retirada de fundos que permite carregar a sua conta de jogo sem algum problema e receber o seu ganho no cartao bancario ou um sistema de pagamentos;servico de apoio a cliente operativo que responde todas as perguntas de usuarios e ajuda resolver qualquer situacao 24 horas por dia.Um requisito obrigatorio para obtencao de todos os privilegios acima indicados e tip adicionais e preencher todos os dados na secao \"Minha conta\" que se encontra na conta pessoal.\n",
      "Cluster 10 Representative Query: SELECT  ?sWHERE  { ?s  a                     <http://dbpedia.org/ontology/City> }OFFSET  0\n",
      "done\n"
     ]
    }
   ],
   "source": [
    "import pandas as pd\n",
    "from sklearn.feature_extraction.text import TfidfVectorizer\n",
    "from sklearn.cluster import KMeans\n",
    "from sklearn.metrics.pairwise import cosine_similarity\n",
    "\n",
    "# Read CSV file into a DataFrame\n",
    "df = pd.read_csv('unique_bio2rdf_sparql_logs_with_counts.csv', lineterminator='\\n', dtype=str)\n",
    "\n",
    "# Use TF-IDF vectorizer to convert queries into numerical vectors\n",
    "vectorizer = TfidfVectorizer()\n",
    "X = vectorizer.fit_transform(df['query'])\n",
    "\n",
    "# Perform K-Means clustering\n",
    "num_clusters = 10  # You can adjust the number of clusters based on your data\n",
    "kmeans = KMeans(n_clusters=num_clusters)\n",
    "kmeans.fit(X)\n",
    "\n",
    "# Find cluster centers\n",
    "cluster_centers = kmeans.cluster_centers_\n",
    "\n",
    "# Find the most representative query for each cluster\n",
    "representative_queries = []\n",
    "for cluster_center in cluster_centers:\n",
    "    cluster_center = cluster_center.reshape(1, -1)\n",
    "    similarity = cosine_similarity(cluster_center, X)\n",
    "    most_similar_idx = similarity.argmax()\n",
    "    representative_queries.append(df['query'][most_similar_idx])\n",
    "\n",
    "# Print representative queries\n",
    "for idx, query in enumerate(representative_queries, start=1):\n",
    "    print(f\"Cluster {idx} Representative Query: {query}\")\n",
    "\n",
    "print('done')\n"
   ]
  },
  {
   "cell_type": "markdown",
   "id": "913bfa49-b267-4282-9f7d-2fd132ea748f",
   "metadata": {},
   "source": [
    "## 5. Parse the queries:  We run new2_optimized.js (file location: persistent/logs/my-sparql-project) to parse queries.\n",
    "\n",
    "Number of failures: 427,596\n",
    "\n",
    "Number of queries parsed: 624,082\n"
   ]
  },
  {
   "cell_type": "code",
   "execution_count": 1,
   "id": "7541f639-3a5d-4236-95f4-2115bc544d8e",
   "metadata": {
    "tags": []
   },
   "outputs": [
    {
     "name": "stdout",
     "output_type": "stream",
     "text": [
      "Null value counts:\n",
      "ASKWHERE  { ?s ?p ?o}                                                                                                                                                                                                                 0\n",
      "{\"queryType\":\"ASK\",\"where\":[{\"type\":\"bgp\",\"triples\":[{\"subject\":{\"termType\":\"Variable\",\"value\":\"s\"},\"predicate\":{\"termType\":\"Variable\",\"value\":\"p\"},\"object\":{\"termType\":\"Variable\",\"value\":\"o\"}}]}],\"type\":\"query\",\"prefixes\":{}}    0\n",
      "dtype: int64\n",
      "1051678\n",
      "                                                                        ASKWHERE  { ?s ?p ?o}  \\\n",
      "0                                                       SELECT  ?sWHERE  { ?s ?p ?o}LIMIT   1   \n",
      "1                                                    SELECT  ?tWHERE  { ?x  ?y  ?t }LIMIT   1   \n",
      "2                                                                    ASKWHERE  { ?s  ?p  ?o }   \n",
      "3  SELECT  (COUNT(?c) AS ?x)WHERE  { ?s <http://www.w3.org/1999/02/22-rdf-syntax-ns#type> ?c}   \n",
      "4                                                 SELECT  (COUNT(?p) AS ?x)WHERE  { ?s ?p ?o}   \n",
      "\n",
      "                                                                                                                                                                                                                                              {\"queryType\":\"ASK\",\"where\":[{\"type\":\"bgp\",\"triples\":[{\"subject\":{\"termType\":\"Variable\",\"value\":\"s\"},\"predicate\":{\"termType\":\"Variable\",\"value\":\"p\"},\"object\":{\"termType\":\"Variable\",\"value\":\"o\"}}]}],\"type\":\"query\",\"prefixes\":{}}  \n",
      "0                                                                                                                                                                         {\"queryType\":\"SELECT\",\"variables\":[{\"termType\":\"Variable\",\"value\":\"sWHERE\"}],\"where\":[{\"type\":\"bgp\",\"triples\":[{\"subject\":{\"termType\":\"Variable\",\"value\":\"s\"},\"predicate\":{\"termType\":\"Variable\",\"value\":\"p\"},\"object\":{\"termType\":\"Variable\",\"value\":\"o\"}}]}],\"limit\":1,\"type\":\"query\",\"prefixes\":{}}  \n",
      "1                                                                                                                                                                         {\"queryType\":\"SELECT\",\"variables\":[{\"termType\":\"Variable\",\"value\":\"tWHERE\"}],\"where\":[{\"type\":\"bgp\",\"triples\":[{\"subject\":{\"termType\":\"Variable\",\"value\":\"x\"},\"predicate\":{\"termType\":\"Variable\",\"value\":\"y\"},\"object\":{\"termType\":\"Variable\",\"value\":\"t\"}}]}],\"limit\":1,\"type\":\"query\",\"prefixes\":{}}  \n",
      "2                                                                                                                                                                                                                                             {\"queryType\":\"ASK\",\"where\":[{\"type\":\"bgp\",\"triples\":[{\"subject\":{\"termType\":\"Variable\",\"value\":\"s\"},\"predicate\":{\"termType\":\"Variable\",\"value\":\"p\"},\"object\":{\"termType\":\"Variable\",\"value\":\"o\"}}]}],\"type\":\"query\",\"prefixes\":{}}  \n",
      "3  {\"queryType\":\"SELECT\",\"variables\":[{\"expression\":{\"expression\":{\"termType\":\"Variable\",\"value\":\"c\"},\"type\":\"aggregate\",\"aggregation\":\"count\",\"distinct\":false},\"variable\":{\"termType\":\"Variable\",\"value\":\"x\"}}],\"where\":[{\"type\":\"bgp\",\"triples\":[{\"subject\":{\"termType\":\"Variable\",\"value\":\"s\"},\"predicate\":{\"termType\":\"NamedNode\",\"value\":\"http://www.w3.org/1999/02/22-rdf-syntax-ns#type\"},\"object\":{\"termType\":\"Variable\",\"value\":\"c\"}}]}],\"type\":\"query\",\"prefixes\":{}}  \n",
      "4                                                 {\"queryType\":\"SELECT\",\"variables\":[{\"expression\":{\"expression\":{\"termType\":\"Variable\",\"value\":\"p\"},\"type\":\"aggregate\",\"aggregation\":\"count\",\"distinct\":false},\"variable\":{\"termType\":\"Variable\",\"value\":\"x\"}}],\"where\":[{\"type\":\"bgp\",\"triples\":[{\"subject\":{\"termType\":\"Variable\",\"value\":\"s\"},\"predicate\":{\"termType\":\"Variable\",\"value\":\"p\"},\"object\":{\"termType\":\"Variable\",\"value\":\"o\"}}]}],\"type\":\"query\",\"prefixes\":{}}  \n"
     ]
    }
   ],
   "source": [
    "import pandas as pd\n",
    "\n",
    "df = pd.read_csv('my-sparql-project//parsed_queries_all.csv', lineterminator='\\n', dtype=str)\n",
    "\n",
    "# Count the number of null values in each column\n",
    "null_counts = df.isnull().sum()\n",
    "\n",
    "print(\"Null value counts:\")\n",
    "print(null_counts)\n",
    "print(len(df))\n",
    "pd.set_option('display.max_colwidth', None)  # Display full content of columns\n",
    "print(df.head())"
   ]
  },
  {
   "cell_type": "markdown",
   "id": "1ee0e461-3d83-403d-99b8-4d08331e39de",
   "metadata": {},
   "source": [
    "## After adding prefixes: We survived 8,176 queries.\n",
    "Number of failures: 419420\n",
    "\n",
    "Number of queries parsed: 632,258"
   ]
  },
  {
   "cell_type": "code",
   "execution_count": 2,
   "id": "80bff85b-5df0-4395-a90a-c80aa9a94f56",
   "metadata": {
    "tags": []
   },
   "outputs": [
    {
     "name": "stdout",
     "output_type": "stream",
     "text": [
      "Null value counts:\n",
      "PREFIX rdf: <http://www.w3.org/1999/02/22-rdf-syntax-ns#>\\nPREFIX rdfs: <http://www.w3.org/2000/01/rdf-schema#>\\nPREFIX owl: <http://www.w3.org/2002/07/owl#>\\nPREFIX xsd: <http://www.w3.org/2001/XMLSchema#>\\nPREFIX foaf: <http://xmlns.com/foaf/0.1/>\\nPREFIX dc: <http://purl.org/dc/elements/1.1/>\\nPREFIX dcterms: <http://purl.org/dc/terms/>\\nPREFIX skos: <http://www.w3.org/2004/02/skos/core#>\\nPREFIX schema: <http://schema.org/>\\nPREFIX geo: <http://www.w3.org/2003/01/geo/wgs84_pos#>\\n\\nASKWHERE  { ?s ?p ?o}                                                                                                                                        0\n",
      "{\"queryType\":\"ASK\",\"where\":[{\"type\":\"bgp\",\"triples\":[{\"subject\":{\"termType\":\"Variable\",\"value\":\"s\"},\"predicate\":{\"termType\":\"Variable\",\"value\":\"p\"},\"object\":{\"termType\":\"Variable\",\"value\":\"o\"}}]}],\"type\":\"query\",\"prefixes\":{\"rdf\":\"http://www.w3.org/1999/02/22-rdf-syntax-ns#\",\"rdfs\":\"http://www.w3.org/2000/01/rdf-schema#\",\"owl\":\"http://www.w3.org/2002/07/owl#\",\"xsd\":\"http://www.w3.org/2001/XMLSchema#\",\"foaf\":\"http://xmlns.com/foaf/0.1/\",\"dc\":\"http://purl.org/dc/elements/1.1/\",\"dcterms\":\"http://purl.org/dc/terms/\",\"skos\":\"http://www.w3.org/2004/02/skos/core#\",\"schema\":\"http://schema.org/\",\"geo\":\"http://www.w3.org/2003/01/geo/wgs84_pos#\"}}    0\n",
      "dtype: int64\n",
      "1051678\n",
      "                                                                        PREFIX rdf: <http://www.w3.org/1999/02/22-rdf-syntax-ns#>\\nPREFIX rdfs: <http://www.w3.org/2000/01/rdf-schema#>\\nPREFIX owl: <http://www.w3.org/2002/07/owl#>\\nPREFIX xsd: <http://www.w3.org/2001/XMLSchema#>\\nPREFIX foaf: <http://xmlns.com/foaf/0.1/>\\nPREFIX dc: <http://purl.org/dc/elements/1.1/>\\nPREFIX dcterms: <http://purl.org/dc/terms/>\\nPREFIX skos: <http://www.w3.org/2004/02/skos/core#>\\nPREFIX schema: <http://schema.org/>\\nPREFIX geo: <http://www.w3.org/2003/01/geo/wgs84_pos#>\\n\\nASKWHERE  { ?s ?p ?o}  \\\n",
      "0                                                       PREFIX rdf: <http://www.w3.org/1999/02/22-rdf-syntax-ns#>\\nPREFIX rdfs: <http://www.w3.org/2000/01/rdf-schema#>\\nPREFIX owl: <http://www.w3.org/2002/07/owl#>\\nPREFIX xsd: <http://www.w3.org/2001/XMLSchema#>\\nPREFIX foaf: <http://xmlns.com/foaf/0.1/>\\nPREFIX dc: <http://purl.org/dc/elements/1.1/>\\nPREFIX dcterms: <http://purl.org/dc/terms/>\\nPREFIX skos: <http://www.w3.org/2004/02/skos/core#>\\nPREFIX schema: <http://schema.org/>\\nPREFIX geo: <http://www.w3.org/2003/01/geo/wgs84_pos#>\\n\\nSELECT  ?sWHERE  { ?s ?p ?o}LIMIT   1   \n",
      "1                                                    PREFIX rdf: <http://www.w3.org/1999/02/22-rdf-syntax-ns#>\\nPREFIX rdfs: <http://www.w3.org/2000/01/rdf-schema#>\\nPREFIX owl: <http://www.w3.org/2002/07/owl#>\\nPREFIX xsd: <http://www.w3.org/2001/XMLSchema#>\\nPREFIX foaf: <http://xmlns.com/foaf/0.1/>\\nPREFIX dc: <http://purl.org/dc/elements/1.1/>\\nPREFIX dcterms: <http://purl.org/dc/terms/>\\nPREFIX skos: <http://www.w3.org/2004/02/skos/core#>\\nPREFIX schema: <http://schema.org/>\\nPREFIX geo: <http://www.w3.org/2003/01/geo/wgs84_pos#>\\n\\nSELECT  ?tWHERE  { ?x  ?y  ?t }LIMIT   1   \n",
      "2                                                                    PREFIX rdf: <http://www.w3.org/1999/02/22-rdf-syntax-ns#>\\nPREFIX rdfs: <http://www.w3.org/2000/01/rdf-schema#>\\nPREFIX owl: <http://www.w3.org/2002/07/owl#>\\nPREFIX xsd: <http://www.w3.org/2001/XMLSchema#>\\nPREFIX foaf: <http://xmlns.com/foaf/0.1/>\\nPREFIX dc: <http://purl.org/dc/elements/1.1/>\\nPREFIX dcterms: <http://purl.org/dc/terms/>\\nPREFIX skos: <http://www.w3.org/2004/02/skos/core#>\\nPREFIX schema: <http://schema.org/>\\nPREFIX geo: <http://www.w3.org/2003/01/geo/wgs84_pos#>\\n\\nASKWHERE  { ?s  ?p  ?o }   \n",
      "3  PREFIX rdf: <http://www.w3.org/1999/02/22-rdf-syntax-ns#>\\nPREFIX rdfs: <http://www.w3.org/2000/01/rdf-schema#>\\nPREFIX owl: <http://www.w3.org/2002/07/owl#>\\nPREFIX xsd: <http://www.w3.org/2001/XMLSchema#>\\nPREFIX foaf: <http://xmlns.com/foaf/0.1/>\\nPREFIX dc: <http://purl.org/dc/elements/1.1/>\\nPREFIX dcterms: <http://purl.org/dc/terms/>\\nPREFIX skos: <http://www.w3.org/2004/02/skos/core#>\\nPREFIX schema: <http://schema.org/>\\nPREFIX geo: <http://www.w3.org/2003/01/geo/wgs84_pos#>\\n\\nSELECT  (COUNT(?c) AS ?x)WHERE  { ?s <http://www.w3.org/1999/02/22-rdf-syntax-ns#type> ?c}   \n",
      "4                                                 PREFIX rdf: <http://www.w3.org/1999/02/22-rdf-syntax-ns#>\\nPREFIX rdfs: <http://www.w3.org/2000/01/rdf-schema#>\\nPREFIX owl: <http://www.w3.org/2002/07/owl#>\\nPREFIX xsd: <http://www.w3.org/2001/XMLSchema#>\\nPREFIX foaf: <http://xmlns.com/foaf/0.1/>\\nPREFIX dc: <http://purl.org/dc/elements/1.1/>\\nPREFIX dcterms: <http://purl.org/dc/terms/>\\nPREFIX skos: <http://www.w3.org/2004/02/skos/core#>\\nPREFIX schema: <http://schema.org/>\\nPREFIX geo: <http://www.w3.org/2003/01/geo/wgs84_pos#>\\n\\nSELECT  (COUNT(?p) AS ?x)WHERE  { ?s ?p ?o}   \n",
      "\n",
      "                                                                                                                                                                                                                                              {\"queryType\":\"ASK\",\"where\":[{\"type\":\"bgp\",\"triples\":[{\"subject\":{\"termType\":\"Variable\",\"value\":\"s\"},\"predicate\":{\"termType\":\"Variable\",\"value\":\"p\"},\"object\":{\"termType\":\"Variable\",\"value\":\"o\"}}]}],\"type\":\"query\",\"prefixes\":{\"rdf\":\"http://www.w3.org/1999/02/22-rdf-syntax-ns#\",\"rdfs\":\"http://www.w3.org/2000/01/rdf-schema#\",\"owl\":\"http://www.w3.org/2002/07/owl#\",\"xsd\":\"http://www.w3.org/2001/XMLSchema#\",\"foaf\":\"http://xmlns.com/foaf/0.1/\",\"dc\":\"http://purl.org/dc/elements/1.1/\",\"dcterms\":\"http://purl.org/dc/terms/\",\"skos\":\"http://www.w3.org/2004/02/skos/core#\",\"schema\":\"http://schema.org/\",\"geo\":\"http://www.w3.org/2003/01/geo/wgs84_pos#\"}}  \n",
      "0                                                                                                                                                                         {\"queryType\":\"SELECT\",\"variables\":[{\"termType\":\"Variable\",\"value\":\"sWHERE\"}],\"where\":[{\"type\":\"bgp\",\"triples\":[{\"subject\":{\"termType\":\"Variable\",\"value\":\"s\"},\"predicate\":{\"termType\":\"Variable\",\"value\":\"p\"},\"object\":{\"termType\":\"Variable\",\"value\":\"o\"}}]}],\"limit\":1,\"type\":\"query\",\"prefixes\":{\"rdf\":\"http://www.w3.org/1999/02/22-rdf-syntax-ns#\",\"rdfs\":\"http://www.w3.org/2000/01/rdf-schema#\",\"owl\":\"http://www.w3.org/2002/07/owl#\",\"xsd\":\"http://www.w3.org/2001/XMLSchema#\",\"foaf\":\"http://xmlns.com/foaf/0.1/\",\"dc\":\"http://purl.org/dc/elements/1.1/\",\"dcterms\":\"http://purl.org/dc/terms/\",\"skos\":\"http://www.w3.org/2004/02/skos/core#\",\"schema\":\"http://schema.org/\",\"geo\":\"http://www.w3.org/2003/01/geo/wgs84_pos#\"}}  \n",
      "1                                                                                                                                                                         {\"queryType\":\"SELECT\",\"variables\":[{\"termType\":\"Variable\",\"value\":\"tWHERE\"}],\"where\":[{\"type\":\"bgp\",\"triples\":[{\"subject\":{\"termType\":\"Variable\",\"value\":\"x\"},\"predicate\":{\"termType\":\"Variable\",\"value\":\"y\"},\"object\":{\"termType\":\"Variable\",\"value\":\"t\"}}]}],\"limit\":1,\"type\":\"query\",\"prefixes\":{\"rdf\":\"http://www.w3.org/1999/02/22-rdf-syntax-ns#\",\"rdfs\":\"http://www.w3.org/2000/01/rdf-schema#\",\"owl\":\"http://www.w3.org/2002/07/owl#\",\"xsd\":\"http://www.w3.org/2001/XMLSchema#\",\"foaf\":\"http://xmlns.com/foaf/0.1/\",\"dc\":\"http://purl.org/dc/elements/1.1/\",\"dcterms\":\"http://purl.org/dc/terms/\",\"skos\":\"http://www.w3.org/2004/02/skos/core#\",\"schema\":\"http://schema.org/\",\"geo\":\"http://www.w3.org/2003/01/geo/wgs84_pos#\"}}  \n",
      "2                                                                                                                                                                                                                                             {\"queryType\":\"ASK\",\"where\":[{\"type\":\"bgp\",\"triples\":[{\"subject\":{\"termType\":\"Variable\",\"value\":\"s\"},\"predicate\":{\"termType\":\"Variable\",\"value\":\"p\"},\"object\":{\"termType\":\"Variable\",\"value\":\"o\"}}]}],\"type\":\"query\",\"prefixes\":{\"rdf\":\"http://www.w3.org/1999/02/22-rdf-syntax-ns#\",\"rdfs\":\"http://www.w3.org/2000/01/rdf-schema#\",\"owl\":\"http://www.w3.org/2002/07/owl#\",\"xsd\":\"http://www.w3.org/2001/XMLSchema#\",\"foaf\":\"http://xmlns.com/foaf/0.1/\",\"dc\":\"http://purl.org/dc/elements/1.1/\",\"dcterms\":\"http://purl.org/dc/terms/\",\"skos\":\"http://www.w3.org/2004/02/skos/core#\",\"schema\":\"http://schema.org/\",\"geo\":\"http://www.w3.org/2003/01/geo/wgs84_pos#\"}}  \n",
      "3  {\"queryType\":\"SELECT\",\"variables\":[{\"expression\":{\"expression\":{\"termType\":\"Variable\",\"value\":\"c\"},\"type\":\"aggregate\",\"aggregation\":\"count\",\"distinct\":false},\"variable\":{\"termType\":\"Variable\",\"value\":\"x\"}}],\"where\":[{\"type\":\"bgp\",\"triples\":[{\"subject\":{\"termType\":\"Variable\",\"value\":\"s\"},\"predicate\":{\"termType\":\"NamedNode\",\"value\":\"http://www.w3.org/1999/02/22-rdf-syntax-ns#type\"},\"object\":{\"termType\":\"Variable\",\"value\":\"c\"}}]}],\"type\":\"query\",\"prefixes\":{\"rdf\":\"http://www.w3.org/1999/02/22-rdf-syntax-ns#\",\"rdfs\":\"http://www.w3.org/2000/01/rdf-schema#\",\"owl\":\"http://www.w3.org/2002/07/owl#\",\"xsd\":\"http://www.w3.org/2001/XMLSchema#\",\"foaf\":\"http://xmlns.com/foaf/0.1/\",\"dc\":\"http://purl.org/dc/elements/1.1/\",\"dcterms\":\"http://purl.org/dc/terms/\",\"skos\":\"http://www.w3.org/2004/02/skos/core#\",\"schema\":\"http://schema.org/\",\"geo\":\"http://www.w3.org/2003/01/geo/wgs84_pos#\"}}  \n",
      "4                                                 {\"queryType\":\"SELECT\",\"variables\":[{\"expression\":{\"expression\":{\"termType\":\"Variable\",\"value\":\"p\"},\"type\":\"aggregate\",\"aggregation\":\"count\",\"distinct\":false},\"variable\":{\"termType\":\"Variable\",\"value\":\"x\"}}],\"where\":[{\"type\":\"bgp\",\"triples\":[{\"subject\":{\"termType\":\"Variable\",\"value\":\"s\"},\"predicate\":{\"termType\":\"Variable\",\"value\":\"p\"},\"object\":{\"termType\":\"Variable\",\"value\":\"o\"}}]}],\"type\":\"query\",\"prefixes\":{\"rdf\":\"http://www.w3.org/1999/02/22-rdf-syntax-ns#\",\"rdfs\":\"http://www.w3.org/2000/01/rdf-schema#\",\"owl\":\"http://www.w3.org/2002/07/owl#\",\"xsd\":\"http://www.w3.org/2001/XMLSchema#\",\"foaf\":\"http://xmlns.com/foaf/0.1/\",\"dc\":\"http://purl.org/dc/elements/1.1/\",\"dcterms\":\"http://purl.org/dc/terms/\",\"skos\":\"http://www.w3.org/2004/02/skos/core#\",\"schema\":\"http://schema.org/\",\"geo\":\"http://www.w3.org/2003/01/geo/wgs84_pos#\"}}  \n"
     ]
    }
   ],
   "source": [
    "import pandas as pd\n",
    "\n",
    "df = pd.read_csv('my-sparql-project//prefix_parsed_queries_all.csv', lineterminator='\\n', dtype=str)\n",
    "\n",
    "# Count the number of null values in each column\n",
    "null_counts = df.isnull().sum()\n",
    "\n",
    "print(\"Null value counts:\")\n",
    "print(null_counts)\n",
    "print(len(df))\n",
    "pd.set_option('display.max_colwidth', None)  # Display full content of columns\n",
    "print(df.head())"
   ]
  },
  {
   "cell_type": "markdown",
   "id": "1d6eca15-99d8-4028-95db-13b4a1e6084f",
   "metadata": {},
   "source": [
    "## 6. We add following list of prefixes to all queries:\n",
    "\n",
    "PREFIX rdf: <http://www.w3.org/1999/02/22-rdf-syntax-ns#>\n",
    "\n",
    "PREFIX rdfs: <http://www.w3.org/2000/01/rdf-schema#>\n",
    "\n",
    "PREFIX owl: <http://www.w3.org/2002/07/owl#>\n",
    "\n",
    "PREFIX xsd: <http://www.w3.org/2001/XMLSchema#>\n",
    "\n",
    "PREFIX foaf: <http://xmlns.com/foaf/0.1/>\n",
    "\n",
    "PREFIX dc: <http://purl.org/dc/elements/1.1/>\n",
    "\n",
    "PREFIX dcterms: <http://purl.org/dc/terms/>\n",
    "\n",
    "PREFIX skos: <http://www.w3.org/2004/02/skos/core#>\n",
    "\n",
    "PREFIX schema: <http://schema.org/>\n",
    "\n",
    "PREFIX geo: <http://www.w3.org/2003/01/geo/wgs84_pos#>\n"
   ]
  },
  {
   "cell_type": "code",
   "execution_count": 40,
   "id": "7ea88567-b74d-4af4-a1cb-35d5b91fc0bb",
   "metadata": {
    "tags": []
   },
   "outputs": [
    {
     "name": "stdout",
     "output_type": "stream",
     "text": [
      "Done!\n"
     ]
    }
   ],
   "source": [
    "import pandas as pd\n",
    "\n",
    "def add_prefix(query):\n",
    "    # The common prefix to add to each query\n",
    "    prefix = \"\"\"PREFIX rdf: <http://www.w3.org/1999/02/22-rdf-syntax-ns#>\n",
    "PREFIX rdfs: <http://www.w3.org/2000/01/rdf-schema#>\n",
    "PREFIX owl: <http://www.w3.org/2002/07/owl#>\n",
    "PREFIX xsd: <http://www.w3.org/2001/XMLSchema#>\n",
    "PREFIX foaf: <http://xmlns.com/foaf/0.1/>\n",
    "PREFIX dc: <http://purl.org/dc/elements/1.1/>\n",
    "PREFIX dcterms: <http://purl.org/dc/terms/>\n",
    "PREFIX skos: <http://www.w3.org/2004/02/skos/core#>\n",
    "PREFIX schema: <http://schema.org/>\n",
    "PREFIX geo: <http://www.w3.org/2003/01/geo/wgs84_pos#>\n",
    "\n",
    "\"\"\"\n",
    "    return prefix + query\n",
    "\n",
    "def add_prefix_to_csv(input_file, output_file):\n",
    "    # Read the CSV file into a Pandas DataFrame\n",
    "    df = pd.read_csv(input_file)\n",
    "\n",
    "    # Add the prefix to the \"query\" column using the add_prefix function\n",
    "    df['query'] = df['query'].apply(add_prefix)\n",
    "\n",
    "    # Save the updated DataFrame to a new CSV file\n",
    "    df.to_csv(output_file, index=False)\n",
    "\n",
    "if __name__ == \"__main__\":\n",
    "    input_csv_file = \"unique_bio2rdf_sparql_logs_with_counts.csv\"  # Replace with the path to your input CSV file\n",
    "    output_csv_file = \"prefixes_added_bio2rdf.csv\"  # Replace with the path to your output CSV file\n",
    "    add_prefix_to_csv(input_csv_file, output_csv_file)\n",
    "    print('Done!')"
   ]
  },
  {
   "cell_type": "code",
   "execution_count": 3,
   "id": "f061cfcb-9d73-48cd-8de2-ffde716e8b8e",
   "metadata": {
    "tags": []
   },
   "outputs": [
    {
     "name": "stdout",
     "output_type": "stream",
     "text": [
      "Null value counts:\n",
      "query    0\n",
      "count    0\n",
      "dtype: int64\n",
      "1051679\n",
      "                                                                                                                                                                                                                                                                                                                                                                                                                                                                                                                                                                                                   query  \\\n",
      "0                                                                       PREFIX rdf: <http://www.w3.org/1999/02/22-rdf-syntax-ns#>\\nPREFIX rdfs: <http://www.w3.org/2000/01/rdf-schema#>\\nPREFIX owl: <http://www.w3.org/2002/07/owl#>\\nPREFIX xsd: <http://www.w3.org/2001/XMLSchema#>\\nPREFIX foaf: <http://xmlns.com/foaf/0.1/>\\nPREFIX dc: <http://purl.org/dc/elements/1.1/>\\nPREFIX dcterms: <http://purl.org/dc/terms/>\\nPREFIX skos: <http://www.w3.org/2004/02/skos/core#>\\nPREFIX schema: <http://schema.org/>\\nPREFIX geo: <http://www.w3.org/2003/01/geo/wgs84_pos#>\\n\\nASKWHERE  { ?s ?p ?o}   \n",
      "1                                                       PREFIX rdf: <http://www.w3.org/1999/02/22-rdf-syntax-ns#>\\nPREFIX rdfs: <http://www.w3.org/2000/01/rdf-schema#>\\nPREFIX owl: <http://www.w3.org/2002/07/owl#>\\nPREFIX xsd: <http://www.w3.org/2001/XMLSchema#>\\nPREFIX foaf: <http://xmlns.com/foaf/0.1/>\\nPREFIX dc: <http://purl.org/dc/elements/1.1/>\\nPREFIX dcterms: <http://purl.org/dc/terms/>\\nPREFIX skos: <http://www.w3.org/2004/02/skos/core#>\\nPREFIX schema: <http://schema.org/>\\nPREFIX geo: <http://www.w3.org/2003/01/geo/wgs84_pos#>\\n\\nSELECT  ?sWHERE  { ?s ?p ?o}LIMIT   1   \n",
      "2                                                    PREFIX rdf: <http://www.w3.org/1999/02/22-rdf-syntax-ns#>\\nPREFIX rdfs: <http://www.w3.org/2000/01/rdf-schema#>\\nPREFIX owl: <http://www.w3.org/2002/07/owl#>\\nPREFIX xsd: <http://www.w3.org/2001/XMLSchema#>\\nPREFIX foaf: <http://xmlns.com/foaf/0.1/>\\nPREFIX dc: <http://purl.org/dc/elements/1.1/>\\nPREFIX dcterms: <http://purl.org/dc/terms/>\\nPREFIX skos: <http://www.w3.org/2004/02/skos/core#>\\nPREFIX schema: <http://schema.org/>\\nPREFIX geo: <http://www.w3.org/2003/01/geo/wgs84_pos#>\\n\\nSELECT  ?tWHERE  { ?x  ?y  ?t }LIMIT   1   \n",
      "3                                                                    PREFIX rdf: <http://www.w3.org/1999/02/22-rdf-syntax-ns#>\\nPREFIX rdfs: <http://www.w3.org/2000/01/rdf-schema#>\\nPREFIX owl: <http://www.w3.org/2002/07/owl#>\\nPREFIX xsd: <http://www.w3.org/2001/XMLSchema#>\\nPREFIX foaf: <http://xmlns.com/foaf/0.1/>\\nPREFIX dc: <http://purl.org/dc/elements/1.1/>\\nPREFIX dcterms: <http://purl.org/dc/terms/>\\nPREFIX skos: <http://www.w3.org/2004/02/skos/core#>\\nPREFIX schema: <http://schema.org/>\\nPREFIX geo: <http://www.w3.org/2003/01/geo/wgs84_pos#>\\n\\nASKWHERE  { ?s  ?p  ?o }   \n",
      "4  PREFIX rdf: <http://www.w3.org/1999/02/22-rdf-syntax-ns#>\\nPREFIX rdfs: <http://www.w3.org/2000/01/rdf-schema#>\\nPREFIX owl: <http://www.w3.org/2002/07/owl#>\\nPREFIX xsd: <http://www.w3.org/2001/XMLSchema#>\\nPREFIX foaf: <http://xmlns.com/foaf/0.1/>\\nPREFIX dc: <http://purl.org/dc/elements/1.1/>\\nPREFIX dcterms: <http://purl.org/dc/terms/>\\nPREFIX skos: <http://www.w3.org/2004/02/skos/core#>\\nPREFIX schema: <http://schema.org/>\\nPREFIX geo: <http://www.w3.org/2003/01/geo/wgs84_pos#>\\n\\nSELECT  (COUNT(?c) AS ?x)WHERE  { ?s <http://www.w3.org/1999/02/22-rdf-syntax-ns#type> ?c}   \n",
      "\n",
      "    count  \n",
      "0  539922  \n",
      "1  365078  \n",
      "2  244841  \n",
      "3   83599  \n",
      "4   44671  \n"
     ]
    }
   ],
   "source": [
    "import pandas as pd\n",
    "df = pd.read_csv('my-sparql-project//prefixes_added_bio2rdf.csv', lineterminator='\\n', dtype=str)\n",
    "\n",
    "# Count the number of null values in each column\n",
    "null_counts = df.isnull().sum()\n",
    "\n",
    "print(\"Null value counts:\")\n",
    "print(null_counts)\n",
    "print(len(df))\n",
    "pd.set_option('display.max_colwidth', None)  # Display full content of columns\n",
    "print(df.head())"
   ]
  },
  {
   "cell_type": "markdown",
   "id": "bc1ff815-a46c-4656-a338-a8b8214502d3",
   "metadata": {},
   "source": [
    "## 7. We count subjects appearing in triple patterns of parsed queries, to calculate complexity"
   ]
  },
  {
   "cell_type": "code",
   "execution_count": 7,
   "id": "58262cc3-dbe4-4830-8c79-a12d5d8465b7",
   "metadata": {
    "tags": []
   },
   "outputs": [],
   "source": [
    "import pandas as pd\n",
    "\n",
    "def count_subject_complexity(parsed_query):\n",
    "    return parsed_query.count(\"subject\")\n",
    "\n",
    "# Replace 'input.csv' with the name of your input CSV file and 'output.csv' with the desired output CSV file name\n",
    "input_file = 'all_cleaned_colchain.csv'\n",
    "output_file = 'bio2RDF_complexity.csv'\n",
    "\n",
    "# Read the CSV file into a DataFrame\n",
    "df = pd.read_csv(input_file)\n",
    "\n",
    "# Create a new column 'complexity' by counting the occurrences of 'subject' in 'parsed_query'\n",
    "df['complexity'] = df['Parsed_Query'].apply(count_subject_complexity)\n",
    "\n",
    "# Create a new DataFrame with 'query' and 'complexity' columns\n",
    "result_df = df[['Query','Parsed_Query', 'complexity']]\n",
    "\n",
    "result_df = result_df.sort_values(by='complexity', ascending=False)\n",
    "\n",
    "# Save the result DataFrame to a new CSV file\n",
    "result_df.to_csv(output_file, index=False)\n"
   ]
  },
  {
   "cell_type": "code",
   "execution_count": 19,
   "id": "dd22113a",
   "metadata": {},
   "outputs": [
    {
     "name": "stdout",
     "output_type": "stream",
     "text": [
      "                                               Query  \\\n",
      "0  PREFIX rdf: <http://www.w3.org/1999/02/22-rdf-...   \n",
      "1  PREFIX rdf: <http://www.w3.org/1999/02/22-rdf-...   \n",
      "2  PREFIX rdf: <http://www.w3.org/1999/02/22-rdf-...   \n",
      "3  PREFIX rdf: <http://www.w3.org/1999/02/22-rdf-...   \n",
      "4  PREFIX rdf: <http://www.w3.org/1999/02/22-rdf-...   \n",
      "\n",
      "                                        Parsed_Query  complexity  \n",
      "0  {\"queryType\":\"SELECT\",\"variables\":[{}],\"where\"...          46  \n",
      "1  {\"queryType\":\"SELECT\",\"distinct\":true,\"variabl...          37  \n",
      "2  {\"queryType\":\"SELECT\",\"variables\":[{}],\"where\"...          32  \n",
      "3  {\"queryType\":\"SELECT\",\"distinct\":true,\"variabl...          32  \n",
      "4  {\"queryType\":\"CONSTRUCT\",\"template\":[{\"subject...          30  \n"
     ]
    }
   ],
   "source": [
    "df= pd.read_csv('bio2RDF_complexity.csv')\n",
    "print(df.head())"
   ]
  },
  {
   "cell_type": "markdown",
   "id": "a7b00e90-46e7-4f73-9302-14129dac3925",
   "metadata": {
    "tags": []
   },
   "source": [
    "## To test calculate Informativness of one single query"
   ]
  },
  {
   "cell_type": "code",
   "execution_count": 11,
   "id": "aaa6bbcd-e044-4226-a9cf-4d80baf225f6",
   "metadata": {
    "tags": []
   },
   "outputs": [
    {
     "name": "stdout",
     "output_type": "stream",
     "text": [
      "Total Variable Count: 5\n",
      "Total Named Node Count: 1\n"
     ]
    }
   ],
   "source": [
    "import json\n",
    "\n",
    "text = '''\n",
    "    {\n",
    "      \"queryType\": \"SELECT\",\n",
    "      \"variables\": \"x y\",\n",
    "      \"where\": [\n",
    "        {\n",
    "          \"type\": \"bgp\",\n",
    "          \"triples\": [\n",
    "            {\n",
    "              \"subject\": { \"termType\": \"Variable\", \"value\": \"x\" },\n",
    "              \"predicate\": { \"termType\": \"NamedNode\", \"value\": \"http://www.w3.org/1999/02/22-rdf-syntax-ns#type\" },\n",
    "              \"object\": { \"termType\": \"Variable\", \"value\": \"y\" }\n",
    "            }\n",
    "          ]\n",
    "        },\n",
    "        {\n",
    "          \"type\": \"group\",\n",
    "          \"patterns\": [\n",
    "            {\n",
    "              \"queryType\": \"SELECT\",\n",
    "              \"variables\": [ { \"termType\": \"Variable\", \"value\": \"y\" } ],\n",
    "              \"where\": [\n",
    "                {\n",
    "                  \"type\": \"bgp\",\n",
    "                  \"triples\": [\n",
    "                    {\n",
    "                      \"subject\": { \"termType\": \"Variable\", \"value\": \"y\" },\n",
    "                      \"predicate\": { \"termType\": \"Variable\", \"value\": \"o\" },\n",
    "                      \"object\": { \"termType\": \"Variable\", \"value\": \"d\" }\n",
    "                    }\n",
    "                  ]\n",
    "                }\n",
    "              ],\n",
    "              \"type\": \"query\"\n",
    "            }\n",
    "          ]\n",
    "        }\n",
    "      ],\n",
    "      \"type\": \"query\",\n",
    "      \"prefixes\": {}\n",
    "    }\n",
    "    '''\n",
    "\n",
    "# Parse the JSON text into a Python dictionary\n",
    "data = json.loads(text)\n",
    "\n",
    "# Function to count variables and named nodes in the bgp section\n",
    "def count_in_bgp(bgp_data):\n",
    "    variable_count = 0\n",
    "    named_node_count = 0\n",
    "\n",
    "    if \"triples\" in bgp_data:\n",
    "        triples = bgp_data[\"triples\"]\n",
    "        for triple in triples:\n",
    "            if triple[\"subject\"][\"termType\"] == \"Variable\":\n",
    "                variable_count += 1\n",
    "            elif triple[\"subject\"][\"termType\"] == \"NamedNode\":\n",
    "                named_node_count += 1\n",
    "            if triple[\"predicate\"][\"termType\"] == \"Variable\":\n",
    "                variable_count += 1\n",
    "            elif triple[\"predicate\"][\"termType\"] == \"NamedNode\":\n",
    "                named_node_count += 1\n",
    "            if triple[\"object\"][\"termType\"] == \"Variable\":\n",
    "                variable_count += 1\n",
    "            elif triple[\"object\"][\"termType\"] == \"NamedNode\":\n",
    "                named_node_count += 1\n",
    "\n",
    "    return variable_count, named_node_count\n",
    "\n",
    "# Initialize counts\n",
    "total_variable_count = 0\n",
    "total_named_node_count = 0\n",
    "\n",
    "# Traverse through all \"bgp\" sections and count variables and named nodes in bgps\n",
    "def traverse(data):\n",
    "    global total_variable_count, total_named_node_count\n",
    "    if isinstance(data, dict):\n",
    "        if \"type\" in data and data[\"type\"] == \"bgp\":\n",
    "            variable_count, named_node_count = count_in_bgp(data)\n",
    "            total_variable_count += variable_count\n",
    "            total_named_node_count += named_node_count\n",
    "        for key, value in data.items():\n",
    "            traverse(value)\n",
    "    elif isinstance(data, list):\n",
    "        for item in data:\n",
    "            traverse(item)\n",
    "\n",
    "# Start traversing from the main JSON dictionary\n",
    "traverse(data)\n",
    "\n",
    "# Print the results\n",
    "print(\"Total Variable Count:\", total_variable_count)\n",
    "print(\"Total Named Node Count:\", total_named_node_count)\n"
   ]
  },
  {
   "cell_type": "markdown",
   "id": "d0ca2ca7-4659-4449-b632-aba488a34d94",
   "metadata": {},
   "source": [
    "## We calculate Informativness of all queries"
   ]
  },
  {
   "cell_type": "code",
   "execution_count": 16,
   "id": "10a16571",
   "metadata": {},
   "outputs": [],
   "source": [
    "import json\n",
    "import csv\n",
    "\n",
    "# Function to count variables and named nodes in the bgp section\n",
    "def count_in_bgp(bgp_data):\n",
    "    variable_count = 0\n",
    "    named_node_count = 0\n",
    "\n",
    "    if \"triples\" in bgp_data:\n",
    "        triples = bgp_data[\"triples\"]\n",
    "        for triple in triples:\n",
    "            subject_term_type = triple[\"subject\"].get(\"termType\", None)\n",
    "            predicate_term_type = triple[\"predicate\"].get(\"termType\", None)\n",
    "            object_term_type = triple[\"object\"].get(\"termType\", None)\n",
    "\n",
    "            if subject_term_type == \"Variable\":\n",
    "                variable_count += 1\n",
    "            elif subject_term_type == \"NamedNode\":\n",
    "                named_node_count += 1\n",
    "\n",
    "            if predicate_term_type == \"Variable\":\n",
    "                variable_count += 1\n",
    "            elif predicate_term_type == \"NamedNode\":\n",
    "                named_node_count += 1\n",
    "\n",
    "            if object_term_type == \"Variable\":\n",
    "                variable_count += 1\n",
    "            elif object_term_type == \"NamedNode\":\n",
    "                named_node_count += 1\n",
    "\n",
    "    return variable_count, named_node_count\n",
    "\n",
    "# Function to calculate informativeness and update CSV rows\n",
    "def calculate_informativeness(input_file, output_file):\n",
    "    with open(input_file, 'r') as infile, open(output_file, 'w', newline='') as outfile:\n",
    "        reader = csv.DictReader(infile)\n",
    "        fieldnames = reader.fieldnames + ['Informativeness']\n",
    "        writer = csv.DictWriter(outfile, fieldnames=fieldnames)\n",
    "        writer.writeheader()\n",
    "\n",
    "        for row in reader:\n",
    "            parsed_query = row['Parsed_Query']\n",
    "\n",
    "            try:\n",
    "                data = json.loads(parsed_query)\n",
    "            except json.JSONDecodeError:\n",
    "                print(f\"Error parsing JSON in row: {row}\")\n",
    "                continue\n",
    "\n",
    "            total_variable_count = 0\n",
    "            total_named_node_count = 0\n",
    "\n",
    "            # Traverse through all \"bgp\" sections and count variables and named nodes in bgps\n",
    "            def traverse(data):\n",
    "                nonlocal total_variable_count, total_named_node_count\n",
    "                if isinstance(data, dict):\n",
    "                    if \"type\" in data and data[\"type\"] == \"bgp\":\n",
    "                        variable_count, named_node_count = count_in_bgp(data)\n",
    "                        total_variable_count += variable_count\n",
    "                        total_named_node_count += named_node_count\n",
    "                    for key, value in data.items():\n",
    "                        traverse(value)\n",
    "                elif isinstance(data, list):\n",
    "                    for item in data:\n",
    "                        traverse(item)\n",
    "\n",
    "            # Start traversing from the main JSON dictionary\n",
    "            traverse(data)\n",
    "\n",
    "            # Update the row with informativeness values\n",
    "            if total_variable_count + total_named_node_count == 0:\n",
    "                informativeness = 0.0  # Default value when denominator is zero\n",
    "            else:\n",
    "                informativeness = total_named_node_count / (total_variable_count + total_named_node_count)\n",
    "\n",
    "            row['Informativeness'] = f'{informativeness}'\n",
    "            writer.writerow(row)\n",
    "\n",
    "# Provide the input and output file paths\n",
    "input_csv_file = 'bio2RDF_complexity.csv'\n",
    "output_csv_file = 'bio2rdf-informativness.csv'\n",
    "\n",
    "# Call the function to calculate informativeness and update the output CSV file\n",
    "calculate_informativeness(input_csv_file, output_csv_file)"
   ]
  },
  {
   "cell_type": "code",
   "execution_count": 25,
   "id": "3f166ebe",
   "metadata": {},
   "outputs": [
    {
     "name": "stdout",
     "output_type": "stream",
     "text": [
      "                                                    Query  \\\n",
      "116281  PREFIX rdf: <http://www.w3.org/1999/02/22-rdf-...   \n",
      "80342   PREFIX rdf: <http://www.w3.org/1999/02/22-rdf-...   \n",
      "105585  PREFIX rdf: <http://www.w3.org/1999/02/22-rdf-...   \n",
      "60405   PREFIX rdf: <http://www.w3.org/1999/02/22-rdf-...   \n",
      "31434   PREFIX rdf: <http://www.w3.org/1999/02/22-rdf-...   \n",
      "\n",
      "                                             Parsed_Query  complexity  \\\n",
      "116281  {\"queryType\":\"ASK\",\"where\":[{\"type\":\"bgp\",\"tri...           1   \n",
      "80342   {\"queryType\":\"ASK\",\"where\":[{\"type\":\"bgp\",\"tri...           1   \n",
      "105585  {\"queryType\":\"ASK\",\"where\":[{\"type\":\"bgp\",\"tri...           1   \n",
      "60405   {\"queryType\":\"ASK\",\"where\":[{\"type\":\"bgp\",\"tri...           1   \n",
      "31434   {\"queryType\":\"ASK\",\"where\":[{\"type\":\"bgp\",\"tri...           1   \n",
      "\n",
      "        Informativeness  \n",
      "116281              1.0  \n",
      "80342               1.0  \n",
      "105585              1.0  \n",
      "60405               1.0  \n",
      "31434               1.0  \n"
     ]
    }
   ],
   "source": [
    "import pandas as pd\n",
    "\n",
    "# Read the CSV file into a DataFrame\n",
    "csv_file_path = 'bio2rdf-informativness.csv'\n",
    "df = pd.read_csv(csv_file_path)\n",
    "\n",
    "# Sort the DataFrame based on the \"Informativeness\" column in descending order\n",
    "sorted_df = df.sort_values(by='Informativeness', ascending=False)\n",
    "\n",
    "# Save the sorted DataFrame to the original CSV file (overwriting the original)\n",
    "sorted_df.to_csv(csv_file_path, index=False)\n",
    "\n",
    "# Print the first five rows of the sorted DataFrame\n",
    "print(sorted_df.head())\n"
   ]
  },
  {
   "cell_type": "code",
   "execution_count": 26,
   "id": "e0fc7e56",
   "metadata": {},
   "outputs": [],
   "source": [
    "import pandas as pd\n",
    "\n",
    "# Read the input CSV file into a DataFrame\n",
    "input_csv_file = 'bio2rdf-informativness.csv'\n",
    "output_csv_file = 'queries_with_high_score.csv'\n",
    "df = pd.read_csv(input_csv_file)\n",
    "\n",
    "# Calculate the sum of \"Informativeness\" and \"complexity\" columns\n",
    "df['Sum'] = df['Informativeness'] + df['complexity']\n",
    "\n",
    "# Sort the DataFrame based on the \"Sum\" column in descending order\n",
    "sorted_df = df.sort_values(by='Sum', ascending=False)\n",
    "\n",
    "# Save the sorted DataFrame to the output CSV file\n",
    "sorted_df.to_csv(output_csv_file, index=False)\n"
   ]
  },
  {
   "cell_type": "code",
   "execution_count": 27,
   "id": "f49b75b2",
   "metadata": {},
   "outputs": [
    {
     "name": "stdout",
     "output_type": "stream",
     "text": [
      "                                               Query  \\\n",
      "0  PREFIX rdf: <http://www.w3.org/1999/02/22-rdf-...   \n",
      "1  PREFIX rdf: <http://www.w3.org/1999/02/22-rdf-...   \n",
      "2  PREFIX rdf: <http://www.w3.org/1999/02/22-rdf-...   \n",
      "3  PREFIX rdf: <http://www.w3.org/1999/02/22-rdf-...   \n",
      "4  PREFIX rdf: <http://www.w3.org/1999/02/22-rdf-...   \n",
      "\n",
      "                                        Parsed_Query  complexity  \\\n",
      "0  {\"queryType\":\"SELECT\",\"variables\":[{}],\"where\"...          46   \n",
      "1  {\"queryType\":\"SELECT\",\"distinct\":true,\"variabl...          37   \n",
      "2  {\"queryType\":\"SELECT\",\"variables\":[{}],\"where\"...          32   \n",
      "3  {\"queryType\":\"SELECT\",\"distinct\":true,\"variabl...          32   \n",
      "4  {\"queryType\":\"CONSTRUCT\",\"template\":[{\"subject...          30   \n",
      "\n",
      "   Informativeness        Sum  \n",
      "0         0.398551  46.398551  \n",
      "1         0.180180  37.180180  \n",
      "2         0.427083  32.427083  \n",
      "3         0.156250  32.156250  \n",
      "4         0.000000  30.000000  \n"
     ]
    }
   ],
   "source": [
    "df= pd.read_csv('queries_with_high_score.csv')\n",
    "print(df.head())"
   ]
  },
  {
   "cell_type": "markdown",
   "id": "f5ded6d1",
   "metadata": {},
   "source": [
    "## Instead of highest Informativness and highest complexity we find a best performing ratio for them."
   ]
  },
  {
   "cell_type": "code",
   "execution_count": 28,
   "id": "b1fd3cb5",
   "metadata": {},
   "outputs": [],
   "source": [
    "import pandas as pd\n",
    "\n",
    "# Read the input CSV file into a DataFrame\n",
    "input_csv_file = 'bio2rdf-informativness.csv'\n",
    "output_csv_file = 'bio2rdf-selected_queries.csv'\n",
    "df = pd.read_csv(input_csv_file)\n",
    "\n",
    "# Filter the DataFrame based on specified conditions\n",
    "filtered_df = df[(0.6 < df['Informativeness']) & (df['Informativeness'] < 0.80) & (2 < df['complexity']) & (df['complexity'] < 15)]\n",
    "\n",
    "# Save the filtered DataFrame to the output CSV file\n",
    "filtered_df.to_csv(output_csv_file, index=False)\n"
   ]
  },
  {
   "cell_type": "code",
   "execution_count": 29,
   "id": "9cc31bad",
   "metadata": {},
   "outputs": [
    {
     "name": "stdout",
     "output_type": "stream",
     "text": [
      "                                               Query  \\\n",
      "0  PREFIX rdf: <http://www.w3.org/1999/02/22-rdf-...   \n",
      "1  PREFIX rdf: <http://www.w3.org/1999/02/22-rdf-...   \n",
      "2  PREFIX rdf: <http://www.w3.org/1999/02/22-rdf-...   \n",
      "3  PREFIX rdf: <http://www.w3.org/1999/02/22-rdf-...   \n",
      "4  PREFIX rdf: <http://www.w3.org/1999/02/22-rdf-...   \n",
      "\n",
      "                                        Parsed_Query  complexity  \\\n",
      "0  {\"queryType\":\"SELECT\",\"variables\":[{}],\"where\"...           3   \n",
      "1  {\"queryType\":\"SELECT\",\"variables\":[{\"termType\"...           3   \n",
      "2  {\"queryType\":\"SELECT\",\"variables\":[{}],\"where\"...           5   \n",
      "3  {\"queryType\":\"SELECT\",\"variables\":[{}],\"where\"...           5   \n",
      "4  {\"queryType\":\"SELECT\",\"variables\":[{\"termType\"...           3   \n",
      "\n",
      "   Informativeness  \n",
      "0         0.777778  \n",
      "1         0.777778  \n",
      "2         0.666667  \n",
      "3         0.666667  \n",
      "4         0.666667  \n"
     ]
    }
   ],
   "source": [
    "df= pd.read_csv('bio2rdf-selected_queries.csv')\n",
    "print(df.head())"
   ]
  },
  {
   "cell_type": "markdown",
   "id": "c6072c78-fa64-4479-84c0-12383421ee63",
   "metadata": {},
   "source": [
    "## Caculate similarity"
   ]
  },
  {
   "cell_type": "code",
   "execution_count": 158,
   "id": "c90c1b33-73ef-4ff2-8b15-4de085fd416d",
   "metadata": {
    "tags": []
   },
   "outputs": [],
   "source": [
    "import pandas as pd\n",
    "from sklearn.feature_extraction.text import TfidfVectorizer\n",
    "from sklearn.metrics.pairwise import cosine_similarity\n",
    "\n",
    "def calculate_similarity(queries):\n",
    "    # Create a TF-IDF vectorizer to convert queries into numerical vectors\n",
    "    vectorizer = TfidfVectorizer()\n",
    "\n",
    "    # Convert the list of queries to TF-IDF vectors\n",
    "    tfidf_matrix = vectorizer.fit_transform(queries)\n",
    "\n",
    "    # Calculate cosine similarity between all pairs of queries\n",
    "    similarity_matrix = cosine_similarity(tfidf_matrix)\n",
    "\n",
    "    return similarity_matrix\n",
    "\n",
    "def main():\n",
    "    # Read the CSV file into a Pandas DataFrame\n",
    "    input_csv_file = \"informativness.csv\"  # Replace with the path to your CSV file\n",
    "    output_csv_file = \"queries_with_similarity.csv\"  # Replace with the desired output CSV file\n",
    "\n",
    "    df = pd.read_csv(input_csv_file)\n",
    "\n",
    "    # Get the queries from the DataFrame\n",
    "    queries = df['Query'].tolist()\n",
    "\n",
    "    # Calculate similarity between queries\n",
    "    similarity_matrix = calculate_similarity(queries)\n",
    "\n",
    "    # Add the similarity values as a new column for each query\n",
    "    similarity_column = []\n",
    "    for i in range(len(queries)):\n",
    "        similarity_column.append(similarity_matrix[i].tolist())\n",
    "\n",
    "    df['similarity'] = similarity_column\n",
    "\n",
    "    # Save the DataFrame with the new similarity column to a new CSV file\n",
    "    df.to_csv(output_csv_file, index=False)\n",
    "\n",
    "if __name__ == \"__main__\":\n",
    "    main()\n"
   ]
  },
  {
   "cell_type": "markdown",
   "id": "2a715f34-3f50-4340-9ed5-7b874287fe93",
   "metadata": {},
   "source": [
    "## Calculate uniqueness of Q(i)\n",
    "\n",
    "We define it as average of the Jaccard similarity(or cosine) scores between the query and all other queries.\n",
    "\n",
    "U(Q(n)) = (Σ J(Q(n), Q(i))) / |Q|"
   ]
  },
  {
   "cell_type": "markdown",
   "id": "ed232eb0-85fd-4028-a7cb-ef817606ceaf",
   "metadata": {},
   "source": [
    "## Jacard similarity and tokenizer"
   ]
  },
  {
   "cell_type": "code",
   "execution_count": null,
   "id": "1c8098ea-95bd-4959-9acb-74c9be51e2e7",
   "metadata": {},
   "outputs": [],
   "source": [
    "import pandas as pd\n",
    "# from sklearn.feature_extraction.text import CountVectorizer\n",
    "from sklearn.metrics.pairwise import pairwise_distances\n",
    "\n",
    "# Step 1: Read the CSV file\n",
    "csv_file_path = 'path_to_your_csv_file.csv'\n",
    "df = pd.read_csv(csv_file_path)\n",
    "\n",
    "# Step 2: Tokenize the queries\n",
    "tokenized_queries = [query.split() for query in df['sparql_query_column']]\n",
    "\n",
    "# Step 3: Convert queries into sets\n",
    "query_sets = [set(tokens) for tokens in tokenized_queries]\n",
    "\n",
    "# Step 4: Calculate Jaccard similarity\n",
    "jaccard_similarities = 1 - pairwise_distances(query_sets, metric='jaccard')\n",
    "\n",
    "# Step 5: Calculate the average uniqueness score for each query\n",
    "average_uniqueness_scores = jaccard_similarities.mean(axis=1)\n",
    "\n",
    "# Now 'average_uniqueness_scores' contains a single value representing the uniqueness of each query.\n"
   ]
  },
  {
   "cell_type": "markdown",
   "id": "c31bbb02-e2b3-44f3-a25a-b014e215e579",
   "metadata": {},
   "source": [
    "## Cosine similarity and vectores "
   ]
  },
  {
   "cell_type": "code",
   "execution_count": null,
   "id": "4e8c3edf-b877-4b29-9ff1-66a1866c88f1",
   "metadata": {},
   "outputs": [],
   "source": [
    "import pandas as pd\n",
    "from sklearn.feature_extraction.text import CountVectorizer\n",
    "from sklearn.metrics.pairwise import pairwise_distances\n",
    "\n",
    "# Step 1: Read the CSV file\n",
    "csv_file_path = 'path_to_your_csv_file.csv'\n",
    "df = pd.read_csv(csv_file_path)\n",
    "\n",
    "# Step 2: Convert queries into a list of strings\n",
    "query_list = df['sparql_query_column'].tolist()\n",
    "\n",
    "# Step 3: Calculate Cosine similarity\n",
    "vectorizer = CountVectorizer()\n",
    "query_vectors = vectorizer.fit_transform(query_list)\n",
    "cosine_similarities = 1 - pairwise_distances(query_vectors, metric='cosine')\n",
    "\n",
    "# Step 4: Calculate the average uniqueness score for each query\n",
    "average_uniqueness_scores = cosine_similarities.mean(axis=1)\n",
    "\n",
    "# Now 'average_uniqueness_scores' contains a single value representing the uniqueness of each query.\n"
   ]
  },
  {
   "cell_type": "markdown",
   "id": "9c93893e-9197-42c8-b9cf-2dca8adcf6bb",
   "metadata": {},
   "source": [
    "##  Optimized"
   ]
  },
  {
   "cell_type": "code",
   "execution_count": null,
   "id": "cd1af4a8-97a0-4374-93a8-cc0dae43dee4",
   "metadata": {},
   "outputs": [],
   "source": [
    "import pandas as pd\n",
    "from sklearn.feature_extraction.text import TfidfVectorizer\n",
    "from scipy.sparse import vstack\n",
    "from sklearn.metrics.pairwise import cosine_similarity\n",
    "\n",
    "# Step 1: Read the CSV file\n",
    "csv_file_path = 'path_to_your_csv_file.csv'\n",
    "df = pd.read_csv(csv_file_path)\n",
    "\n",
    "# Step 2: Define the batch size for processing\n",
    "batch_size = 1000\n",
    "\n",
    "# Step 3: Initialize the vectorizer\n",
    "vectorizer = TfidfVectorizer(use_idf=False)\n",
    "\n",
    "# Step 4: Initialize the variable to store the final results\n",
    "result_uniqueness_scores = []\n",
    "\n",
    "# Step 5: Process data in batches\n",
    "for i in range(0, len(df), batch_size):\n",
    "    batch_queries = df['sparql_query_column'].iloc[i:i + batch_size].tolist()\n",
    "    # Convert the queries into a sparse matrix\n",
    "    batch_query_vectors = vectorizer.transform(batch_queries)\n",
    "    # Calculate cosine similarity for the batch\n",
    "    cosine_similarities = cosine_similarity(batch_query_vectors)\n",
    "    # Compute the average uniqueness score for each query in the batch\n",
    "    average_uniqueness_scores = cosine_similarities.mean(axis=1)\n",
    "    result_uniqueness_scores.extend(average_uniqueness_scores)\n",
    "\n",
    "# Now 'result_uniqueness_scores' contains a list of values representing the uniqueness of each query.\n"
   ]
  },
  {
   "cell_type": "markdown",
   "id": "0ab6dc80-eede-4388-8de5-f6353f30210f",
   "metadata": {},
   "source": [
    "## Get distribution of query complexity"
   ]
  },
  {
   "cell_type": "code",
   "execution_count": null,
   "id": "2dc032eb",
   "metadata": {},
   "outputs": [],
   "source": [
    "%pip install matplotlib"
   ]
  },
  {
   "cell_type": "code",
   "execution_count": 34,
   "id": "4b187ff1",
   "metadata": {},
   "outputs": [
    {
     "data": {
      "image/png": "[encoded data removed]",
      "text/plain": [
       "<Figure size 432x288 with 1 Axes>"
      ]
     },
     "metadata": {
      "needs_background": "light"
     },
     "output_type": "display_data"
    }
   ],
   "source": [
    "import pandas as pd\n",
    "import matplotlib.pyplot as plt\n",
    "\n",
    "# Load CSV Data\n",
    "data = pd.read_csv(\"bio2rdf-informativness.csv\")  # Replace with your actual CSV file path\n",
    "complexity_column = data[\"complexity\"]\n",
    "\n",
    "# Calculate Complexity Distribution\n",
    "complexity_distribution = complexity_column.value_counts().sort_index()\n",
    "\n",
    "# Create a Bar Plot\n",
    "plt.bar(complexity_distribution.index, complexity_distribution.values)\n",
    "plt.xlabel(\"Complexity\")\n",
    "plt.ylabel(\"Frequency\")\n",
    "plt.title(\"Distribution of Complexity\")\n",
    "plt.show()\n"
   ]
  }
 ],
 "metadata": {
  "kernelspec": {
   "display_name": "Python 3 (ipykernel)",
   "language": "python",
   "name": "python3"
  },
  "language_info": {
   "codemirror_mode": {
    "name": "ipython",
    "version": 3
   },
   "file_extension": ".py",
   "mimetype": "text/x-python",
   "name": "python",
   "nbconvert_exporter": "python",
   "pygments_lexer": "ipython3",
   "version": "3.8.13"
  }
 },
 "nbformat": 4,
 "nbformat_minor": 5
}
